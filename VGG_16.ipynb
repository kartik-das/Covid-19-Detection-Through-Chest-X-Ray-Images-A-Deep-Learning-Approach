{
  "cells": [
    {
      "cell_type": "markdown",
      "metadata": {
        "id": "view-in-github",
        "colab_type": "text"
      },
      "source": [
        "<a href=\"https://colab.research.google.com/github/kartik-das/Covid-19-Detection-Through-Chest-X-Ray-Images-A-Deep-Learning-Approach/blob/main/VGG_16.ipynb\" target=\"_parent\"><img src=\"https://colab.research.google.com/assets/colab-badge.svg\" alt=\"Open In Colab\"/></a>"
      ]
    },
    {
      "cell_type": "code",
      "execution_count": null,
      "metadata": {
        "id": "RMGoqMDYHUFb"
      },
      "outputs": [],
      "source": [
        "import numpy as np\n",
        "import pandas as pd\n",
        "%matplotlib inline\n",
        "import matplotlib as mpl\n",
        "import matplotlib.pyplot as plt\n",
        "import os"
      ]
    },
    {
      "cell_type": "code",
      "source": [
        "from google.colab import drive\n",
        "drive.mount('/content/drive')"
      ],
      "metadata": {
        "id": "CmUrmnYzf1eL",
        "colab": {
          "base_uri": "https://localhost:8080/"
        },
        "outputId": "e4a9d5ed-3d4a-4abc-be15-d7f635179434"
      },
      "execution_count": null,
      "outputs": [
        {
          "output_type": "stream",
          "name": "stdout",
          "text": [
            "Mounted at /content/drive\n"
          ]
        }
      ]
    },
    {
      "cell_type": "code",
      "execution_count": null,
      "metadata": {
        "id": "BeDtDFmzHeZG"
      },
      "outputs": [],
      "source": [
        "import tensorflow as tf\n",
        "from tensorflow import keras"
      ]
    },
    {
      "cell_type": "code",
      "execution_count": null,
      "metadata": {
        "id": "rL26MIRJINin"
      },
      "outputs": [],
      "source": [
        "train_dir=r'/content/drive/MyDrive/Curated S Dataset/train'\n",
        "validation_dir=r'/content/drive/MyDrive/Curated S Dataset/val'\n",
        "test_dir=r'/content/drive/MyDrive/Curated S Dataset/test'"
      ]
    },
    {
      "cell_type": "code",
      "execution_count": null,
      "metadata": {
        "id": "xy3sL1K9IxM2"
      },
      "outputs": [],
      "source": [
        "from tensorflow.keras.preprocessing.image import ImageDataGenerator"
      ]
    },
    {
      "cell_type": "code",
      "execution_count": null,
      "metadata": {
        "id": "RSuyG9-jI2Dt"
      },
      "outputs": [],
      "source": [
        "train_datagen=ImageDataGenerator(\n",
        "    rescale=1./255,\n",
        "    rotation_range=40,\n",
        "    width_shift_range=0.2,\n",
        "    height_shift_range=0.2,\n",
        "    shear_range=0.2,\n",
        "    zoom_range=0.2,\n",
        "    horizontal_flip=True,\n",
        "    fill_mode='reflect'\n",
        ")"
      ]
    },
    {
      "cell_type": "code",
      "execution_count": null,
      "metadata": {
        "colab": {
          "base_uri": "https://localhost:8080/"
        },
        "id": "WTuFpIWvI8F6",
        "outputId": "14d1c031-4977-482d-81c8-caf551a1111b"
      },
      "outputs": [
        {
          "output_type": "stream",
          "name": "stdout",
          "text": [
            "Found 6485 images belonging to 3 classes.\n"
          ]
        }
      ],
      "source": [
        "train_datagenerator=train_datagen.flow_from_directory(\n",
        "    train_dir,\n",
        "    target_size=(150,150),\n",
        "    batch_size=32,\n",
        "    class_mode='sparse'\n",
        ")"
      ]
    },
    {
      "cell_type": "code",
      "execution_count": null,
      "metadata": {
        "id": "3tgdyKFLI4-x"
      },
      "outputs": [],
      "source": [
        "valid_datagen=ImageDataGenerator(rescale=1./255)"
      ]
    },
    {
      "cell_type": "code",
      "execution_count": null,
      "metadata": {
        "colab": {
          "base_uri": "https://localhost:8080/"
        },
        "id": "BL5lvvWfJJtg",
        "outputId": "72ca5393-52d8-497a-ea17-cdeba9675ca6"
      },
      "outputs": [
        {
          "output_type": "stream",
          "name": "stdout",
          "text": [
            "Found 1851 images belonging to 3 classes.\n"
          ]
        }
      ],
      "source": [
        "validation_generator=valid_datagen.flow_from_directory(\n",
        "    validation_dir,\n",
        "    target_size=(150,150),\n",
        "    batch_size=32,\n",
        "    class_mode='sparse'\n",
        ")"
      ]
    },
    {
      "cell_type": "code",
      "execution_count": null,
      "metadata": {
        "id": "k7N9oJv6LPkr"
      },
      "outputs": [],
      "source": [
        "from tensorflow.keras.applications import VGG16"
      ]
    },
    {
      "cell_type": "code",
      "execution_count": null,
      "metadata": {
        "colab": {
          "base_uri": "https://localhost:8080/"
        },
        "id": "TR9YUfhvLaOm",
        "outputId": "e59bc94c-696d-423e-f424-f6204912357b"
      },
      "outputs": [
        {
          "output_type": "stream",
          "name": "stdout",
          "text": [
            "Downloading data from https://storage.googleapis.com/tensorflow/keras-applications/vgg16/vgg16_weights_tf_dim_ordering_tf_kernels_notop.h5\n",
            "58892288/58889256 [==============================] - 0s 0us/step\n",
            "58900480/58889256 [==============================] - 0s 0us/step\n"
          ]
        }
      ],
      "source": [
        "\n",
        "conv_base=VGG16(weights='imagenet',\n",
        "                include_top=False,\n",
        "                input_shape=(150,150,3))"
      ]
    },
    {
      "cell_type": "code",
      "execution_count": null,
      "metadata": {
        "colab": {
          "base_uri": "https://localhost:8080/"
        },
        "id": "DUPrDaJALwhq",
        "outputId": "ba7564bb-ebbc-44b0-f60a-6f79aff9fd8b"
      },
      "outputs": [
        {
          "output_type": "stream",
          "name": "stdout",
          "text": [
            "Model: \"vgg16\"\n",
            "_________________________________________________________________\n",
            " Layer (type)                Output Shape              Param #   \n",
            "=================================================================\n",
            " input_1 (InputLayer)        [(None, 150, 150, 3)]     0         \n",
            "                                                                 \n",
            " block1_conv1 (Conv2D)       (None, 150, 150, 64)      1792      \n",
            "                                                                 \n",
            " block1_conv2 (Conv2D)       (None, 150, 150, 64)      36928     \n",
            "                                                                 \n",
            " block1_pool (MaxPooling2D)  (None, 75, 75, 64)        0         \n",
            "                                                                 \n",
            " block2_conv1 (Conv2D)       (None, 75, 75, 128)       73856     \n",
            "                                                                 \n",
            " block2_conv2 (Conv2D)       (None, 75, 75, 128)       147584    \n",
            "                                                                 \n",
            " block2_pool (MaxPooling2D)  (None, 37, 37, 128)       0         \n",
            "                                                                 \n",
            " block3_conv1 (Conv2D)       (None, 37, 37, 256)       295168    \n",
            "                                                                 \n",
            " block3_conv2 (Conv2D)       (None, 37, 37, 256)       590080    \n",
            "                                                                 \n",
            " block3_conv3 (Conv2D)       (None, 37, 37, 256)       590080    \n",
            "                                                                 \n",
            " block3_pool (MaxPooling2D)  (None, 18, 18, 256)       0         \n",
            "                                                                 \n",
            " block4_conv1 (Conv2D)       (None, 18, 18, 512)       1180160   \n",
            "                                                                 \n",
            " block4_conv2 (Conv2D)       (None, 18, 18, 512)       2359808   \n",
            "                                                                 \n",
            " block4_conv3 (Conv2D)       (None, 18, 18, 512)       2359808   \n",
            "                                                                 \n",
            " block4_pool (MaxPooling2D)  (None, 9, 9, 512)         0         \n",
            "                                                                 \n",
            " block5_conv1 (Conv2D)       (None, 9, 9, 512)         2359808   \n",
            "                                                                 \n",
            " block5_conv2 (Conv2D)       (None, 9, 9, 512)         2359808   \n",
            "                                                                 \n",
            " block5_conv3 (Conv2D)       (None, 9, 9, 512)         2359808   \n",
            "                                                                 \n",
            " block5_pool (MaxPooling2D)  (None, 4, 4, 512)         0         \n",
            "                                                                 \n",
            "=================================================================\n",
            "Total params: 14,714,688\n",
            "Trainable params: 14,714,688\n",
            "Non-trainable params: 0\n",
            "_________________________________________________________________\n"
          ]
        }
      ],
      "source": [
        "conv_base.summary()"
      ]
    },
    {
      "cell_type": "code",
      "execution_count": null,
      "metadata": {
        "id": "q6hqNTlPL3j9"
      },
      "outputs": [],
      "source": [
        "from tensorflow.keras import models\n",
        "from tensorflow.keras import layers"
      ]
    },
    {
      "cell_type": "code",
      "execution_count": null,
      "metadata": {
        "id": "3II3PteCMLhn"
      },
      "outputs": [],
      "source": [
        "model=models.Sequential()\n",
        "model.add(conv_base)\n",
        "model.add(layers.Flatten())\n",
        "model.add(layers.Dense(256,activation='relu'))\n",
        "model.add(layers.Dense(4,activation='softmax'))\n"
      ]
    },
    {
      "cell_type": "code",
      "execution_count": null,
      "metadata": {
        "colab": {
          "base_uri": "https://localhost:8080/"
        },
        "id": "zoMMmLOzf1zi",
        "outputId": "603a2f80-fea6-47b1-ee2d-3adccfeed4cb"
      },
      "outputs": [
        {
          "output_type": "stream",
          "name": "stdout",
          "text": [
            "Model: \"sequential\"\n",
            "_________________________________________________________________\n",
            " Layer (type)                Output Shape              Param #   \n",
            "=================================================================\n",
            " vgg16 (Functional)          (None, 4, 4, 512)         14714688  \n",
            "                                                                 \n",
            " flatten (Flatten)           (None, 8192)              0         \n",
            "                                                                 \n",
            " dense (Dense)               (None, 256)               2097408   \n",
            "                                                                 \n",
            " dense_1 (Dense)             (None, 4)                 1028      \n",
            "                                                                 \n",
            "=================================================================\n",
            "Total params: 16,813,124\n",
            "Trainable params: 16,813,124\n",
            "Non-trainable params: 0\n",
            "_________________________________________________________________\n"
          ]
        }
      ],
      "source": [
        "model.summary()"
      ]
    },
    {
      "cell_type": "code",
      "execution_count": null,
      "metadata": {
        "id": "M5WBxJBkf5OF"
      },
      "outputs": [],
      "source": [
        "from tensorflow.keras import optimizers"
      ]
    },
    {
      "cell_type": "code",
      "execution_count": null,
      "metadata": {
        "id": "cAqtyjd-gIB0"
      },
      "outputs": [],
      "source": [
        "model.compile(optimizer='adam',\n",
        "              loss=tf.keras.losses.SparseCategoricalCrossentropy(),\n",
        "              metrics=[\"accuracy\"])"
      ]
    },
    {
      "cell_type": "code",
      "execution_count": null,
      "metadata": {
        "colab": {
          "base_uri": "https://localhost:8080/"
        },
        "id": "UUvE6l02gPp_",
        "outputId": "5dd4a435-4bb1-4723-dd8c-59ec26533703"
      },
      "outputs": [
        {
          "output_type": "stream",
          "name": "stdout",
          "text": [
            "Epoch 1/50\n",
            "202/202 [==============================] - 1659s 8s/step - loss: 1.2031 - accuracy: 0.4958 - val_loss: 1.0119 - val_accuracy: 0.5030\n",
            "Epoch 2/50\n",
            "202/202 [==============================] - 230s 1s/step - loss: 1.0138 - accuracy: 0.4944 - val_loss: 1.0083 - val_accuracy: 0.5030\n",
            "Epoch 3/50\n",
            "202/202 [==============================] - 225s 1s/step - loss: 1.0012 - accuracy: 0.4944 - val_loss: 1.1170 - val_accuracy: 0.5030\n",
            "Epoch 4/50\n",
            "202/202 [==============================] - 221s 1s/step - loss: 0.8562 - accuracy: 0.5915 - val_loss: 0.5044 - val_accuracy: 0.7823\n",
            "Epoch 5/50\n",
            "202/202 [==============================] - 220s 1s/step - loss: 0.6192 - accuracy: 0.7385 - val_loss: 0.4544 - val_accuracy: 0.8131\n",
            "Epoch 6/50\n",
            "202/202 [==============================] - 219s 1s/step - loss: 0.4826 - accuracy: 0.8102 - val_loss: 0.3774 - val_accuracy: 0.8574\n",
            "Epoch 7/50\n",
            "202/202 [==============================] - 219s 1s/step - loss: 0.4858 - accuracy: 0.8057 - val_loss: 0.3314 - val_accuracy: 0.8947\n",
            "Epoch 8/50\n",
            "202/202 [==============================] - 219s 1s/step - loss: 0.4117 - accuracy: 0.8401 - val_loss: 0.4596 - val_accuracy: 0.8125\n",
            "Epoch 9/50\n",
            "202/202 [==============================] - 218s 1s/step - loss: 0.3990 - accuracy: 0.8484 - val_loss: 0.3833 - val_accuracy: 0.8514\n",
            "Epoch 10/50\n",
            "202/202 [==============================] - 217s 1s/step - loss: 0.3884 - accuracy: 0.8520 - val_loss: 0.2969 - val_accuracy: 0.9087\n",
            "Epoch 11/50\n",
            "202/202 [==============================] - 217s 1s/step - loss: 0.3529 - accuracy: 0.8691 - val_loss: 0.3972 - val_accuracy: 0.8455\n",
            "Epoch 12/50\n",
            "202/202 [==============================] - 217s 1s/step - loss: 0.3447 - accuracy: 0.8689 - val_loss: 0.2660 - val_accuracy: 0.9055\n",
            "Epoch 13/50\n",
            "202/202 [==============================] - 218s 1s/step - loss: 0.3416 - accuracy: 0.8728 - val_loss: 0.2907 - val_accuracy: 0.8963\n",
            "Epoch 14/50\n",
            "202/202 [==============================] - 216s 1s/step - loss: 0.3179 - accuracy: 0.8814 - val_loss: 0.2739 - val_accuracy: 0.8947\n",
            "Epoch 15/50\n",
            "202/202 [==============================] - 218s 1s/step - loss: 0.3173 - accuracy: 0.8850 - val_loss: 0.2712 - val_accuracy: 0.9076\n",
            "Epoch 16/50\n",
            "202/202 [==============================] - 218s 1s/step - loss: 0.3074 - accuracy: 0.8885 - val_loss: 0.2204 - val_accuracy: 0.9260\n",
            "Epoch 17/50\n",
            "202/202 [==============================] - 218s 1s/step - loss: 0.2936 - accuracy: 0.8942 - val_loss: 0.2424 - val_accuracy: 0.9233\n",
            "Epoch 18/50\n",
            "202/202 [==============================] - 217s 1s/step - loss: 0.2901 - accuracy: 0.8938 - val_loss: 0.2339 - val_accuracy: 0.9195\n",
            "Epoch 19/50\n",
            "202/202 [==============================] - 218s 1s/step - loss: 0.2772 - accuracy: 0.9038 - val_loss: 0.2467 - val_accuracy: 0.9173\n",
            "Epoch 20/50\n",
            "202/202 [==============================] - 219s 1s/step - loss: 0.2694 - accuracy: 0.9052 - val_loss: 0.2596 - val_accuracy: 0.9211\n",
            "Epoch 21/50\n",
            "202/202 [==============================] - 217s 1s/step - loss: 0.2838 - accuracy: 0.8982 - val_loss: 0.1988 - val_accuracy: 0.9384\n",
            "Epoch 22/50\n",
            "202/202 [==============================] - 219s 1s/step - loss: 0.2776 - accuracy: 0.8936 - val_loss: 0.2473 - val_accuracy: 0.9157\n",
            "Epoch 23/50\n",
            "202/202 [==============================] - 218s 1s/step - loss: 0.2517 - accuracy: 0.9107 - val_loss: 0.2198 - val_accuracy: 0.9184\n",
            "Epoch 24/50\n",
            "202/202 [==============================] - 218s 1s/step - loss: 0.2527 - accuracy: 0.9106 - val_loss: 0.2106 - val_accuracy: 0.9352\n",
            "Epoch 25/50\n",
            "202/202 [==============================] - 219s 1s/step - loss: 0.2480 - accuracy: 0.9136 - val_loss: 0.2037 - val_accuracy: 0.9292\n",
            "Epoch 26/50\n",
            "202/202 [==============================] - 219s 1s/step - loss: 0.2508 - accuracy: 0.9092 - val_loss: 0.1987 - val_accuracy: 0.9319\n",
            "Epoch 27/50\n",
            "202/202 [==============================] - 218s 1s/step - loss: 0.2412 - accuracy: 0.9164 - val_loss: 0.1872 - val_accuracy: 0.9411\n",
            "Epoch 28/50\n",
            "202/202 [==============================] - 219s 1s/step - loss: 0.2348 - accuracy: 0.9155 - val_loss: 0.1858 - val_accuracy: 0.9292\n",
            "Epoch 29/50\n",
            "202/202 [==============================] - 219s 1s/step - loss: 0.2513 - accuracy: 0.9092 - val_loss: 0.1949 - val_accuracy: 0.9352\n",
            "Epoch 30/50\n",
            "202/202 [==============================] - 218s 1s/step - loss: 0.2358 - accuracy: 0.9180 - val_loss: 0.1803 - val_accuracy: 0.9411\n",
            "Epoch 31/50\n",
            "202/202 [==============================] - 219s 1s/step - loss: 0.2300 - accuracy: 0.9190 - val_loss: 0.1947 - val_accuracy: 0.9298\n",
            "Epoch 32/50\n",
            "202/202 [==============================] - 219s 1s/step - loss: 0.2268 - accuracy: 0.9203 - val_loss: 0.2611 - val_accuracy: 0.9001\n",
            "Epoch 33/50\n",
            "202/202 [==============================] - 218s 1s/step - loss: 0.2241 - accuracy: 0.9198 - val_loss: 0.3203 - val_accuracy: 0.9136\n",
            "Epoch 34/50\n",
            "202/202 [==============================] - 221s 1s/step - loss: 0.2041 - accuracy: 0.9295 - val_loss: 0.3150 - val_accuracy: 0.9449\n",
            "Epoch 35/50\n",
            "202/202 [==============================] - 221s 1s/step - loss: 0.2261 - accuracy: 0.9254 - val_loss: 0.1592 - val_accuracy: 0.9438\n",
            "Epoch 36/50\n",
            "202/202 [==============================] - 219s 1s/step - loss: 0.2314 - accuracy: 0.9194 - val_loss: 0.2363 - val_accuracy: 0.9157\n",
            "Epoch 37/50\n",
            "202/202 [==============================] - 219s 1s/step - loss: 0.2297 - accuracy: 0.9164 - val_loss: 0.2217 - val_accuracy: 0.9211\n",
            "Epoch 38/50\n",
            "202/202 [==============================] - 219s 1s/step - loss: 0.2123 - accuracy: 0.9247 - val_loss: 0.3147 - val_accuracy: 0.8795\n",
            "Epoch 39/50\n",
            "202/202 [==============================] - 217s 1s/step - loss: 0.2118 - accuracy: 0.9275 - val_loss: 0.2131 - val_accuracy: 0.9281\n",
            "Epoch 40/50\n",
            "202/202 [==============================] - 219s 1s/step - loss: 0.2098 - accuracy: 0.9263 - val_loss: 0.2167 - val_accuracy: 0.9141\n",
            "Epoch 41/50\n",
            "202/202 [==============================] - 219s 1s/step - loss: 0.1932 - accuracy: 0.9292 - val_loss: 0.1395 - val_accuracy: 0.9552\n",
            "Epoch 42/50\n",
            "202/202 [==============================] - 218s 1s/step - loss: 0.1943 - accuracy: 0.9318 - val_loss: 0.1603 - val_accuracy: 0.9508\n",
            "Epoch 43/50\n",
            "202/202 [==============================] - 220s 1s/step - loss: 0.2202 - accuracy: 0.9220 - val_loss: 0.1744 - val_accuracy: 0.9346\n",
            "Epoch 44/50\n",
            "202/202 [==============================] - 220s 1s/step - loss: 0.1976 - accuracy: 0.9306 - val_loss: 0.1602 - val_accuracy: 0.9417\n",
            "Epoch 45/50\n",
            "202/202 [==============================] - 219s 1s/step - loss: 0.1898 - accuracy: 0.9325 - val_loss: 0.1441 - val_accuracy: 0.9568\n",
            "Epoch 46/50\n",
            "202/202 [==============================] - 219s 1s/step - loss: 0.1953 - accuracy: 0.9317 - val_loss: 0.1935 - val_accuracy: 0.9557\n",
            "Epoch 47/50\n",
            "202/202 [==============================] - 220s 1s/step - loss: 0.1806 - accuracy: 0.9359 - val_loss: 0.1474 - val_accuracy: 0.9476\n",
            "Epoch 48/50\n",
            "202/202 [==============================] - 220s 1s/step - loss: 0.1957 - accuracy: 0.9292 - val_loss: 0.1260 - val_accuracy: 0.9584\n",
            "Epoch 49/50\n",
            "202/202 [==============================] - 224s 1s/step - loss: 0.1887 - accuracy: 0.9359 - val_loss: 0.2870 - val_accuracy: 0.8936\n",
            "Epoch 50/50\n",
            "202/202 [==============================] - 219s 1s/step - loss: 0.1832 - accuracy: 0.9355 - val_loss: 0.1530 - val_accuracy: 0.9498\n"
          ]
        }
      ],
      "source": [
        "history=model.fit(\n",
        "    train_datagenerator,\n",
        "    steps_per_epoch=train_datagenerator.n/train_datagenerator.batch_size,\n",
        "    epochs=50,\n",
        "    validation_data=validation_generator,\n",
        "    validation_steps=validation_generator.n/validation_generator.batch_size\n",
        ")"
      ]
    },
    {
      "cell_type": "code",
      "source": [
        "model.save('vgg_16_model.h5')\n"
      ],
      "metadata": {
        "id": "ZRs80V5ihPki"
      },
      "execution_count": null,
      "outputs": []
    },
    {
      "cell_type": "code",
      "source": [
        "from keras.models import load_model\n",
        "model = load_model('vgg_16_model.h5')"
      ],
      "metadata": {
        "id": "4cJtX0NhgHje"
      },
      "execution_count": null,
      "outputs": []
    },
    {
      "cell_type": "code",
      "source": [
        "import keras\n",
        "from keras import backend as K\n",
        "from keras.layers.core import Dense, Activation\n",
        "from tensorflow.keras import optimizers\n",
        "from keras.metrics import categorical_crossentropy\n",
        "from keras.preprocessing.image import ImageDataGenerator\n",
        "from keras.preprocessing import image\n",
        "from keras.models import Model\n",
        "from keras.applications import imagenet_utils\n",
        "from keras.layers import Dense,GlobalAveragePooling2D\n",
        "\n",
        "\n",
        "import numpy as np\n",
        "from IPython.display import Image\n",
        "from tensorflow.keras import optimizers"
      ],
      "metadata": {
        "id": "7lqwnRQEjZ-N"
      },
      "execution_count": null,
      "outputs": []
    },
    {
      "cell_type": "code",
      "source": [
        "def load_image(img_path, show=False):\n",
        "\n",
        "    img = image.load_img(img_path, target_size=(150,150))\n",
        "    img_tensor = image.img_to_array(img)                    # (height, width, channels)\n",
        "    img_tensor = np.expand_dims(img_tensor, axis=0)         # (1, height, width, channels), add a dimension because the model expects this shape: (batch_size, height, width, channels)\n",
        "    img_tensor /= 255.                                      # imshow expects values in the range [0, 1]\n",
        "\n",
        "    if show:\n",
        "        plt.imshow(img_tensor[0])\n",
        "        plt.axis('off')\n",
        "        plt.show()\n",
        "\n",
        "    return img_tensor\n",
        "\n",
        "\n",
        "img_path = '/content/drive/MyDrive/Splitted dataset/val/Pneumonia-Bacterial/Pneumonia-Bacterial (10).jpg'\n",
        "new_image = load_image(img_path)\n",
        "\n",
        "pred = model.predict(new_image)\n",
        "\n",
        "pred = np.argmax(pred)\n",
        "pred"
      ],
      "metadata": {
        "colab": {
          "base_uri": "https://localhost:8080/"
        },
        "id": "_7EDTRXQhVS1",
        "outputId": "68e26494-fc3e-4e65-f6b8-11f5ab325572"
      },
      "execution_count": null,
      "outputs": [
        {
          "output_type": "execute_result",
          "data": {
            "text/plain": [
              "2"
            ]
          },
          "metadata": {},
          "execution_count": 24
        }
      ]
    },
    {
      "cell_type": "code",
      "source": [
        "score = model.evaluate_generator(validation_generator)\n",
        "print('final val_loss:', score[0])\n",
        "print('final val_acc:', score[1])"
      ],
      "metadata": {
        "id": "JDf6bIYDiPKk",
        "colab": {
          "base_uri": "https://localhost:8080/"
        },
        "outputId": "8553985c-8a51-4e04-f421-e8e5e11b1b03"
      },
      "execution_count": null,
      "outputs": [
        {
          "output_type": "stream",
          "name": "stderr",
          "text": [
            "/usr/local/lib/python3.7/dist-packages/ipykernel_launcher.py:1: UserWarning: `Model.evaluate_generator` is deprecated and will be removed in a future version. Please use `Model.evaluate`, which supports generators.\n",
            "  \"\"\"Entry point for launching an IPython kernel.\n"
          ]
        },
        {
          "output_type": "stream",
          "name": "stdout",
          "text": [
            "final val_loss: 0.15297046303749084\n",
            "final val_acc: 0.9497568607330322\n"
          ]
        }
      ]
    },
    {
      "cell_type": "code",
      "source": [
        "from sklearn.metrics import confusion_matrix, roc_curve, auc"
      ],
      "metadata": {
        "id": "tr_q3u1MGgW4"
      },
      "execution_count": null,
      "outputs": []
    },
    {
      "cell_type": "code",
      "source": [
        "def get_confusion_matrix(data_path, N):\n",
        "  # we need to see the data in the same order\n",
        "  # for both predictions and targets\n",
        "  print(\"Confusion Matrix\", N)\n",
        "  predictions = []\n",
        "  targets = []\n",
        "  i = 0\n",
        "  for x, y in valid_datagen.flow_from_directory(data_path, target_size=(150,150), shuffle=False, batch_size= 64):\n",
        "    i += 1\n",
        "    if i % 50 == 0:\n",
        "      print(i)\n",
        "    p = model.predict(x)\n",
        "    p = np.argmax(p, axis=1)\n",
        "    y = np.argmax(y, axis=1)\n",
        "    predictions = np.concatenate((predictions, p))\n",
        "    targets = np.concatenate((targets, y))\n",
        "    if len(targets) >= N:\n",
        "      break\n",
        "\n",
        "  cm = confusion_matrix(targets, predictions)\n",
        "  return cm\n",
        "\n",
        "\n",
        "cm = get_confusion_matrix(train_dir, 6484 )\n",
        "print(cm)\n",
        "valid_cm = get_confusion_matrix(test_dir, 930 )\n",
        "print(valid_cm)"
      ],
      "metadata": {
        "colab": {
          "base_uri": "https://localhost:8080/"
        },
        "id": "CECgKKq4GuL3",
        "outputId": "77898b42-a81e-46e0-ebc6-d605e95e371d"
      },
      "execution_count": null,
      "outputs": [
        {
          "output_type": "stream",
          "name": "stdout",
          "text": [
            "Confusion Matrix 6484\n",
            "Found 6485 images belonging to 3 classes.\n",
            "50\n",
            "100\n",
            "[[ 876   28   26]\n",
            " [  10 2173  111]\n",
            " [  11   67 3183]]\n",
            "Confusion Matrix 1851\n",
            "Found 930 images belonging to 3 classes.\n",
            "[[252   8   8]\n",
            " [  4 630  24]\n",
            " [  4  16 914]]\n"
          ]
        }
      ]
    },
    {
      "cell_type": "code",
      "source": [
        "# plot some data:\n",
        "\n",
        "# loss:\n",
        "plt.plot(history.history['loss'], label='train loss')\n",
        "plt.plot(history.history['val_loss'], label='val loss')\n",
        "plt.legend()\n",
        "plt.xlabel('epoch')\n",
        "plt.ylabel('error')\n",
        "plt.show()\n",
        "\n",
        "# accuracies:\n",
        "plt.plot(history.history['accuracy'], label='train acc')\n",
        "plt.plot(history.history['val_accuracy'], label='val acc')\n",
        "plt.legend()\n",
        "plt.xlabel('epoch')\n",
        "plt.ylabel('accuracy')\n",
        "plt.show()"
      ],
      "metadata": {
        "colab": {
          "base_uri": "https://localhost:8080/",
          "height": 541
        },
        "id": "DED7fpRXGxjo",
        "outputId": "bad586d2-5426-44cc-f43d-8eb205773b72"
      },
      "execution_count": null,
      "outputs": [
        {
          "output_type": "display_data",
          "data": {
            "text/plain": [
              "<Figure size 432x288 with 1 Axes>"
            ],
            "image/png": "[encoded data removed]"
          },
          "metadata": {
            "needs_background": "light"
          }
        },
        {
          "output_type": "display_data",
          "data": {
            "text/plain": [
              "<Figure size 432x288 with 1 Axes>"
            ],
            "image/png": "[encoded data removed]"
          },
          "metadata": {
            "needs_background": "light"
          }
        }
      ]
    },
    {
      "cell_type": "code",
      "source": [
        "labels = ['Covid', 'Normal', 'Other']"
      ],
      "metadata": {
        "id": "bjncMJyRI9J3"
      },
      "execution_count": null,
      "outputs": []
    },
    {
      "cell_type": "code",
      "source": [
        "import itertools\n",
        "import numpy as np\n",
        "import matplotlib.pyplot as plt\n",
        "import os\n",
        "\n",
        "\n",
        "def plot_confusion_matrix(cm, classes,\n",
        "                          normalize=False,\n",
        "                          title='Confusion Matrix',\n",
        "                          cmap=plt.cm.Blues,\n",
        "                          sv_dir=None):\n",
        "  \"\"\"\n",
        "  This function prints and plots the confusion matrix.\n",
        "  Normalization can be applied by setting `normalize=True`.\n",
        "  \"\"\"\n",
        "  if normalize:\n",
        "      cm = cm.astype('float') / cm.sum(axis=1)[:, np.newaxis]\n",
        "      print(\"Normalized Confusion Matrix\")\n",
        "  else:\n",
        "      print('Confussion Matrix')\n",
        "\n",
        "  print(cm)\n",
        "\n",
        "  plt.imshow(cm, interpolation='nearest', cmap=cmap)\n",
        "  plt.title(title)\n",
        "  plt.colorbar()\n",
        "  tick_marks = np.arange(len(classes))\n",
        "  plt.xticks(tick_marks, classes, rotation=45)\n",
        "  plt.yticks(tick_marks, classes)\n",
        "\n",
        "  fmt = '.2f' if normalize else 'd'\n",
        "  thresh = cm.max() / 2.\n",
        "  for i, j in itertools.product(range(cm.shape[0]), range(cm.shape[1])):\n",
        "      plt.text(j, i, format(cm[i, j], fmt),\n",
        "               horizontalalignment=\"center\",\n",
        "               color=\"white\" if cm[i, j] > thresh else \"black\")\n",
        "\n",
        "  plt.tight_layout()\n",
        "  plt.ylabel('Real Values')\n",
        "  plt.xlabel('Predicted Values')\n",
        "  if sv_dir is not None:\n",
        "    plt.savefig(sv_dir)\n",
        "  plt.show()\n",
        "\n",
        "\n",
        "def y2indicator(Y):\n",
        "  K = len(set(Y))\n",
        "  N = len(Y)\n",
        "  I = np.empty((N, K))\n",
        "  I[np.arange(N), Y] = 1\n",
        "  return I\n",
        "plot_confusion_matrix(\n",
        "  cm,\n",
        "  labels,\n",
        "  title='Training Confusion matrix'\n",
        ")\n",
        "\n",
        "plot_confusion_matrix(\n",
        "  valid_cm,\n",
        "  labels,\n",
        "  title='Test Confusion Matrix'\n",
        ")"
      ],
      "metadata": {
        "colab": {
          "base_uri": "https://localhost:8080/",
          "height": 744
        },
        "id": "wqK7yP_TJDI3",
        "outputId": "4603c8b4-594b-4701-817b-8d5d321fbd9d"
      },
      "execution_count": null,
      "outputs": [
        {
          "output_type": "stream",
          "name": "stdout",
          "text": [
            "Confussion Matrix\n",
            "[[ 876   28   26]\n",
            " [  10 2173  111]\n",
            " [  11   67 3183]]\n"
          ]
        },
        {
          "output_type": "display_data",
          "data": {
            "text/plain": [
              "<Figure size 432x288 with 2 Axes>"
            ],
            "image/png": "[encoded data removed]"
          },
          "metadata": {
            "needs_background": "light"
          }
        },
        {
          "output_type": "stream",
          "name": "stdout",
          "text": [
            "Confussion Matrix\n",
            "[[252   8   8]\n",
            " [  4 630  24]\n",
            " [  4  16 914]]\n"
          ]
        },
        {
          "output_type": "display_data",
          "data": {
            "text/plain": [
              "<Figure size 432x288 with 2 Axes>"
            ],
            "image/png": "[encoded data removed]"
          },
          "metadata": {
            "needs_background": "light"
          }
        }
      ]
    },
    {
      "cell_type": "code",
      "source": [
        "from sklearn.metrics import classification_report"
      ],
      "metadata": {
        "id": "ut7rIL8wJHDn"
      },
      "execution_count": null,
      "outputs": []
    },
    {
      "cell_type": "code",
      "source": [
        "print(\"[INFO] evaluating network...\")\n",
        "N=900\n",
        "predictions = []\n",
        "targets = []\n",
        "i = 0\n",
        "for x, y in valid_datagen.flow_from_directory(test_dir, target_size=(150,150), shuffle=False, batch_size= 64):\n",
        "    i += 1\n",
        "    if i % 50 == 0:\n",
        "      print(i)\n",
        "    p = model.predict(x)\n",
        "    p = np.argmax(p, axis=1)\n",
        "    y = np.argmax(y, axis=1)\n",
        "    predictions = np.concatenate((predictions, p))\n",
        "    targets = np.concatenate((targets, y))\n",
        "    if len(targets) >= N:\n",
        "      break\n",
        "\n",
        "print(classification_report(targets, predictions, target_names=labels))"
      ],
      "metadata": {
        "colab": {
          "base_uri": "https://localhost:8080/"
        },
        "id": "0WGB7q50JZjm",
        "outputId": "ea614cfa-95af-4ef4-9afc-3404393dca11"
      },
      "execution_count": null,
      "outputs": [
        {
          "output_type": "stream",
          "name": "stdout",
          "text": [
            "[INFO] evaluating network...\n",
            "Found 930 images belonging to 3 classes.\n",
            "              precision    recall  f1-score   support\n",
            "\n",
            "       Covid       0.97      0.94      0.95       134\n",
            "      Normal       0.96      0.96      0.96       329\n",
            "       Other       0.97      0.98      0.97       467\n",
            "\n",
            "    accuracy                           0.97       930\n",
            "   macro avg       0.97      0.96      0.96       930\n",
            "weighted avg       0.97      0.97      0.97       930\n",
            "\n"
          ]
        }
      ]
    },
    {
      "cell_type": "code",
      "source": [],
      "metadata": {
        "id": "9MY-Q6bjJnWG"
      },
      "execution_count": null,
      "outputs": []
    }
  ],
  "metadata": {
    "colab": {
      "provenance": [],
      "include_colab_link": true
    },
    "kernelspec": {
      "display_name": "Python 3",
      "name": "python3"
    },
    "language_info": {
      "name": "python"
    },
    "accelerator": "GPU"
  },
  "nbformat": 4,
  "nbformat_minor": 0
}