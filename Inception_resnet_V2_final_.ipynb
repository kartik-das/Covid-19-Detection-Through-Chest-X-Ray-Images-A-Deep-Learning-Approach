{
  "metadata": {
    "kernelspec": {
      "language": "python",
      "display_name": "Python 3",
      "name": "python3"
    },
    "language_info": {
      "name": "python",
      "version": "3.7.12",
      "mimetype": "text/x-python",
      "codemirror_mode": {
        "name": "ipython",
        "version": 3
      },
      "pygments_lexer": "ipython3",
      "nbconvert_exporter": "python",
      "file_extension": ".py"
    },
    "colab": {
      "provenance": [],
      "include_colab_link": true
    },
    "accelerator": "GPU",
    "gpuClass": "standard"
  },
  "nbformat_minor": 0,
  "nbformat": 4,
  "cells": [
    {
      "cell_type": "markdown",
      "metadata": {
        "id": "view-in-github",
        "colab_type": "text"
      },
      "source": [
        "<a href=\"https://colab.research.google.com/github/kartik-das/Covid-19-Detection-Through-Chest-X-Ray-Images-A-Deep-Learning-Approach/blob/main/Inception_resnet_V2_final_.ipynb\" target=\"_parent\"><img src=\"https://colab.research.google.com/assets/colab-badge.svg\" alt=\"Open In Colab\"/></a>"
      ]
    },
    {
      "cell_type": "code",
      "source": [
        "import numpy as np\n",
        "import pandas as pd\n",
        "%matplotlib inline\n",
        "import matplotlib as mpl\n",
        "import matplotlib.pyplot as plt\n",
        "import os"
      ],
      "metadata": {
        "execution": {
          "iopub.status.busy": "2022-06-25T14:18:13.751419Z",
          "iopub.execute_input": "2022-06-25T14:18:13.752523Z",
          "iopub.status.idle": "2022-06-25T14:18:13.767649Z",
          "shell.execute_reply.started": "2022-06-25T14:18:13.752441Z",
          "shell.execute_reply": "2022-06-25T14:18:13.765989Z"
        },
        "trusted": true,
        "id": "WsiyhK7E_MqQ"
      },
      "execution_count": null,
      "outputs": []
    },
    {
      "cell_type": "code",
      "source": [
        "from google.colab import drive\n",
        "drive.mount('/content/drive')"
      ],
      "metadata": {
        "colab": {
          "base_uri": "https://localhost:8080/"
        },
        "id": "mqJ7Ik4F_cKz",
        "outputId": "aa5c3a0d-b0a3-494d-c4ea-662a70f77610"
      },
      "execution_count": null,
      "outputs": [
        {
          "output_type": "stream",
          "name": "stdout",
          "text": [
            "Mounted at /content/drive\n"
          ]
        }
      ]
    },
    {
      "cell_type": "code",
      "source": [
        "import tensorflow as tf\n",
        "from tensorflow import keras"
      ],
      "metadata": {
        "execution": {
          "iopub.status.busy": "2022-06-25T14:18:13.770028Z",
          "iopub.execute_input": "2022-06-25T14:18:13.770655Z",
          "iopub.status.idle": "2022-06-25T14:18:19.285778Z",
          "shell.execute_reply.started": "2022-06-25T14:18:13.770611Z",
          "shell.execute_reply": "2022-06-25T14:18:19.28401Z"
        },
        "trusted": true,
        "id": "3S9n3Tn__MqQ"
      },
      "execution_count": null,
      "outputs": []
    },
    {
      "cell_type": "code",
      "source": [
        "train_dir=r'/content/drive/MyDrive/Curated S Dataset/train'\n",
        "validation_dir=r'/content/drive/MyDrive/Curated S Dataset/val'\n",
        "test_dir=r'/content/drive/MyDrive/Curated S Dataset/test'"
      ],
      "metadata": {
        "execution": {
          "iopub.status.busy": "2022-06-25T14:18:19.29083Z",
          "iopub.execute_input": "2022-06-25T14:18:19.292271Z",
          "iopub.status.idle": "2022-06-25T14:18:19.298697Z",
          "shell.execute_reply.started": "2022-06-25T14:18:19.292225Z",
          "shell.execute_reply": "2022-06-25T14:18:19.297313Z"
        },
        "trusted": true,
        "id": "9GwDbh6F_MqR"
      },
      "execution_count": null,
      "outputs": []
    },
    {
      "cell_type": "code",
      "source": [
        "from tensorflow.keras.preprocessing.image import ImageDataGenerator"
      ],
      "metadata": {
        "execution": {
          "iopub.status.busy": "2022-06-25T14:18:19.300467Z",
          "iopub.execute_input": "2022-06-25T14:18:19.301018Z",
          "iopub.status.idle": "2022-06-25T14:18:20.31536Z",
          "shell.execute_reply.started": "2022-06-25T14:18:19.300973Z",
          "shell.execute_reply": "2022-06-25T14:18:20.314068Z"
        },
        "trusted": true,
        "id": "WhTCstNF_MqR"
      },
      "execution_count": null,
      "outputs": []
    },
    {
      "cell_type": "code",
      "source": [
        "train_datagen=ImageDataGenerator(\n",
        "    rescale=1./255,\n",
        "    rotation_range=40,\n",
        "    width_shift_range=0.2,\n",
        "    height_shift_range=0.2,\n",
        "    shear_range=0.2,\n",
        "    zoom_range=0.2,\n",
        "    horizontal_flip=True,\n",
        "    fill_mode='reflect'\n",
        ")"
      ],
      "metadata": {
        "execution": {
          "iopub.status.busy": "2022-06-25T14:18:20.317203Z",
          "iopub.execute_input": "2022-06-25T14:18:20.317641Z",
          "iopub.status.idle": "2022-06-25T14:18:20.329159Z",
          "shell.execute_reply.started": "2022-06-25T14:18:20.317577Z",
          "shell.execute_reply": "2022-06-25T14:18:20.326452Z"
        },
        "trusted": true,
        "id": "pUTr1m0s_MqR"
      },
      "execution_count": null,
      "outputs": []
    },
    {
      "cell_type": "code",
      "source": [
        "train_datagenerator=train_datagen.flow_from_directory(\n",
        "    train_dir,\n",
        "    target_size=(150,150),\n",
        "    batch_size=32,\n",
        "    class_mode='sparse'\n",
        ")"
      ],
      "metadata": {
        "execution": {
          "iopub.status.busy": "2022-06-25T14:18:20.331982Z",
          "iopub.execute_input": "2022-06-25T14:18:20.333293Z",
          "iopub.status.idle": "2022-06-25T14:18:21.867292Z",
          "shell.execute_reply.started": "2022-06-25T14:18:20.33325Z",
          "shell.execute_reply": "2022-06-25T14:18:21.866156Z"
        },
        "trusted": true,
        "colab": {
          "base_uri": "https://localhost:8080/"
        },
        "id": "iqpPLLy9_MqS",
        "outputId": "9b1c59b3-1c67-4258-d1f2-e05e7555899e"
      },
      "execution_count": null,
      "outputs": [
        {
          "output_type": "stream",
          "name": "stdout",
          "text": [
            "Found 6484 images belonging to 3 classes.\n"
          ]
        }
      ]
    },
    {
      "cell_type": "code",
      "source": [
        "valid_datagen=ImageDataGenerator(rescale=1./255)"
      ],
      "metadata": {
        "execution": {
          "iopub.status.busy": "2022-06-25T14:18:21.869083Z",
          "iopub.execute_input": "2022-06-25T14:18:21.869523Z",
          "iopub.status.idle": "2022-06-25T14:18:21.875792Z",
          "shell.execute_reply.started": "2022-06-25T14:18:21.869483Z",
          "shell.execute_reply": "2022-06-25T14:18:21.874298Z"
        },
        "trusted": true,
        "id": "e7tmLlYx_MqS"
      },
      "execution_count": null,
      "outputs": []
    },
    {
      "cell_type": "code",
      "source": [
        "validation_generator=valid_datagen.flow_from_directory(\n",
        "    validation_dir,\n",
        "    target_size=(150,150),\n",
        "    batch_size=32,\n",
        "    class_mode='sparse'\n",
        ")"
      ],
      "metadata": {
        "execution": {
          "iopub.status.busy": "2022-06-25T14:18:21.877824Z",
          "iopub.execute_input": "2022-06-25T14:18:21.878779Z",
          "iopub.status.idle": "2022-06-25T14:18:22.16151Z",
          "shell.execute_reply.started": "2022-06-25T14:18:21.878735Z",
          "shell.execute_reply": "2022-06-25T14:18:22.160193Z"
        },
        "trusted": true,
        "colab": {
          "base_uri": "https://localhost:8080/"
        },
        "id": "bM6JilQw_MqT",
        "outputId": "15ad15db-0f23-4b18-f72e-c49baa525542"
      },
      "execution_count": null,
      "outputs": [
        {
          "output_type": "stream",
          "name": "stdout",
          "text": [
            "Found 1851 images belonging to 3 classes.\n"
          ]
        }
      ]
    },
    {
      "cell_type": "code",
      "source": [
        "test_datagen=ImageDataGenerator(rescale=1./255)"
      ],
      "metadata": {
        "execution": {
          "iopub.status.busy": "2022-06-25T14:18:22.167422Z",
          "iopub.execute_input": "2022-06-25T14:18:22.167731Z",
          "iopub.status.idle": "2022-06-25T14:18:22.174045Z",
          "shell.execute_reply.started": "2022-06-25T14:18:22.167702Z",
          "shell.execute_reply": "2022-06-25T14:18:22.172462Z"
        },
        "trusted": true,
        "id": "lRR7KQUq_MqT"
      },
      "execution_count": null,
      "outputs": []
    },
    {
      "cell_type": "code",
      "source": [
        "test_generator=test_datagen.flow_from_directory(\n",
        "    test_dir,\n",
        "    target_size=(150,150),\n",
        "    batch_size=32,\n",
        "    class_mode='sparse'\n",
        "\n",
        ")"
      ],
      "metadata": {
        "execution": {
          "iopub.status.busy": "2022-06-25T14:18:22.17585Z",
          "iopub.execute_input": "2022-06-25T14:18:22.177261Z",
          "iopub.status.idle": "2022-06-25T14:18:22.291515Z",
          "shell.execute_reply.started": "2022-06-25T14:18:22.177217Z",
          "shell.execute_reply": "2022-06-25T14:18:22.290251Z"
        },
        "trusted": true,
        "colab": {
          "base_uri": "https://localhost:8080/"
        },
        "id": "yaXXxCMJ_MqU",
        "outputId": "f94c8241-b5fe-45eb-c7ff-0b442a3eedee"
      },
      "execution_count": null,
      "outputs": [
        {
          "output_type": "stream",
          "name": "stdout",
          "text": [
            "Found 930 images belonging to 3 classes.\n"
          ]
        }
      ]
    },
    {
      "cell_type": "code",
      "source": [
        "from keras.layers import Dense, Flatten, GlobalAveragePooling2D, Dropout\n",
        "from tensorflow.keras.optimizers import Adam\n",
        "\n",
        "from keras.models import Model\n",
        "baseModel = tf.keras.applications.InceptionResNetV2(\n",
        "    # Freezing the weights of the top layer in the InceptionResNetV2 pre-traiined model\n",
        "    include_top = False,\n",
        "\n",
        "    # Use Imagenet weights\n",
        "    weights = 'imagenet',\n",
        "\n",
        "    # Define input shape to 224x224x3\n",
        "    input_shape = (150, 150, 3)\n",
        "\n",
        "\n",
        ")\n",
        "\n",
        "for layer in baseModel.layers:\n",
        "    layer.trainable = False\n",
        "\n",
        "headModel = baseModel.output\n",
        "headModel = GlobalAveragePooling2D()(headModel)\n",
        "headModel = Flatten()(headModel)\n",
        "headModel = Dense(64, activation=\"relu\")(headModel)\n",
        "headModel = Dropout(0.2)(headModel)\n",
        "\n",
        "headModel = Dense(3, activation='softmax')(headModel)\n",
        "\n",
        "model = Model(inputs=baseModel.input, outputs=headModel)"
      ],
      "metadata": {
        "execution": {
          "iopub.status.busy": "2022-06-25T14:18:22.293077Z",
          "iopub.execute_input": "2022-06-25T14:18:22.294093Z",
          "iopub.status.idle": "2022-06-25T14:18:38.866007Z",
          "shell.execute_reply.started": "2022-06-25T14:18:22.294052Z",
          "shell.execute_reply": "2022-06-25T14:18:38.864803Z"
        },
        "trusted": true,
        "id": "so0textt_MqU",
        "colab": {
          "base_uri": "https://localhost:8080/"
        },
        "outputId": "7225152e-5071-4c53-9540-3e6169d51a5f"
      },
      "execution_count": null,
      "outputs": [
        {
          "output_type": "stream",
          "name": "stdout",
          "text": [
            "Downloading data from https://storage.googleapis.com/tensorflow/keras-applications/inception_resnet_v2/inception_resnet_v2_weights_tf_dim_ordering_tf_kernels_notop.h5\n",
            "219062272/219055592 [==============================] - 1s 0us/step\n",
            "219070464/219055592 [==============================] - 1s 0us/step\n"
          ]
        }
      ]
    },
    {
      "cell_type": "code",
      "source": [
        "#compile the model\n",
        "model.compile(optimizer='adam',\n",
        "              loss=tf.keras.losses.SparseCategoricalCrossentropy(),\n",
        "              metrics=[\"accuracy\"])"
      ],
      "metadata": {
        "execution": {
          "iopub.status.busy": "2022-06-25T14:18:38.868279Z",
          "iopub.execute_input": "2022-06-25T14:18:38.869128Z",
          "iopub.status.idle": "2022-06-25T14:18:38.912523Z",
          "shell.execute_reply.started": "2022-06-25T14:18:38.869073Z",
          "shell.execute_reply": "2022-06-25T14:18:38.907205Z"
        },
        "trusted": true,
        "id": "rH_ovHT__MqV"
      },
      "execution_count": null,
      "outputs": []
    },
    {
      "cell_type": "code",
      "source": [
        "history=model.fit(\n",
        "    train_datagenerator,\n",
        "    steps_per_epoch=train_datagenerator.n/train_datagenerator.batch_size,\n",
        "    epochs=25,\n",
        "    validation_data=validation_generator,\n",
        "    validation_steps=validation_generator.n/validation_generator.batch_size\n",
        ")"
      ],
      "metadata": {
        "execution": {
          "iopub.status.busy": "2022-06-25T14:18:38.917793Z",
          "iopub.execute_input": "2022-06-25T14:18:38.918925Z",
          "iopub.status.idle": "2022-06-25T17:40:23.543252Z",
          "shell.execute_reply.started": "2022-06-25T14:18:38.91868Z",
          "shell.execute_reply": "2022-06-25T17:40:23.541976Z"
        },
        "trusted": true,
        "colab": {
          "base_uri": "https://localhost:8080/"
        },
        "id": "xFkEfvYo_MqV",
        "outputId": "fae7f913-47d4-46b0-a277-329447855370"
      },
      "execution_count": null,
      "outputs": [
        {
          "output_type": "stream",
          "name": "stdout",
          "text": [
            "Epoch 1/25\n",
            "202/202 [==============================] - 2118s 10s/step - loss: 0.5754 - accuracy: 0.7829 - val_loss: 0.3534 - val_accuracy: 0.8579\n",
            "Epoch 2/25\n",
            "202/202 [==============================] - 957s 5s/step - loss: 0.4044 - accuracy: 0.8391 - val_loss: 0.2742 - val_accuracy: 0.8909\n",
            "Epoch 3/25\n",
            "202/202 [==============================] - 967s 5s/step - loss: 0.3767 - accuracy: 0.8590 - val_loss: 0.2372 - val_accuracy: 0.9130\n",
            "Epoch 4/25\n",
            "202/202 [==============================] - 972s 5s/step - loss: 0.3793 - accuracy: 0.8546 - val_loss: 0.3134 - val_accuracy: 0.8936\n",
            "Epoch 5/25\n",
            "202/202 [==============================] - 977s 5s/step - loss: 0.3617 - accuracy: 0.8587 - val_loss: 0.2393 - val_accuracy: 0.9130\n",
            "Epoch 6/25\n",
            "202/202 [==============================] - 977s 5s/step - loss: 0.3665 - accuracy: 0.8640 - val_loss: 0.2469 - val_accuracy: 0.9136\n",
            "Epoch 7/25\n",
            "202/202 [==============================] - 963s 5s/step - loss: 0.3439 - accuracy: 0.8697 - val_loss: 0.2806 - val_accuracy: 0.8903\n",
            "Epoch 8/25\n",
            "202/202 [==============================] - 956s 5s/step - loss: 0.3306 - accuracy: 0.8751 - val_loss: 0.2879 - val_accuracy: 0.8887\n",
            "Epoch 9/25\n",
            "202/202 [==============================] - 968s 5s/step - loss: 0.3268 - accuracy: 0.8795 - val_loss: 0.2239 - val_accuracy: 0.9146\n",
            "Epoch 10/25\n",
            "202/202 [==============================] - 973s 5s/step - loss: 0.3220 - accuracy: 0.8782 - val_loss: 0.2190 - val_accuracy: 0.9249\n",
            "Epoch 11/25\n",
            "202/202 [==============================] - 955s 5s/step - loss: 0.3040 - accuracy: 0.8854 - val_loss: 0.2447 - val_accuracy: 0.9130\n",
            "Epoch 12/25\n",
            "202/202 [==============================] - 965s 5s/step - loss: 0.3151 - accuracy: 0.8826 - val_loss: 0.2048 - val_accuracy: 0.9249\n",
            "Epoch 13/25\n",
            "202/202 [==============================] - 964s 5s/step - loss: 0.3163 - accuracy: 0.8837 - val_loss: 0.2172 - val_accuracy: 0.9179\n",
            "Epoch 14/25\n",
            "202/202 [==============================] - 948s 5s/step - loss: 0.3108 - accuracy: 0.8880 - val_loss: 0.2692 - val_accuracy: 0.9011\n",
            "Epoch 15/25\n",
            "202/202 [==============================] - 959s 5s/step - loss: 0.3056 - accuracy: 0.8868 - val_loss: 0.2177 - val_accuracy: 0.9152\n",
            "Epoch 16/25\n",
            "202/202 [==============================] - 947s 5s/step - loss: 0.2961 - accuracy: 0.8880 - val_loss: 0.2508 - val_accuracy: 0.9276\n",
            "Epoch 17/25\n",
            "202/202 [==============================] - 956s 5s/step - loss: 0.2907 - accuracy: 0.8894 - val_loss: 0.2353 - val_accuracy: 0.9082\n",
            "Epoch 18/25\n",
            "202/202 [==============================] - 951s 5s/step - loss: 0.2936 - accuracy: 0.8954 - val_loss: 0.2328 - val_accuracy: 0.9244\n",
            "Epoch 19/25\n",
            "202/202 [==============================] - 947s 5s/step - loss: 0.2679 - accuracy: 0.9028 - val_loss: 0.2002 - val_accuracy: 0.9335\n",
            "Epoch 20/25\n",
            "202/202 [==============================] - 955s 5s/step - loss: 0.2885 - accuracy: 0.8916 - val_loss: 0.2000 - val_accuracy: 0.9298\n",
            "Epoch 21/25\n",
            "202/202 [==============================] - 948s 5s/step - loss: 0.2929 - accuracy: 0.8902 - val_loss: 0.2076 - val_accuracy: 0.9308\n",
            "Epoch 22/25\n",
            "202/202 [==============================] - 961s 5s/step - loss: 0.2843 - accuracy: 0.8942 - val_loss: 0.2675 - val_accuracy: 0.9006\n",
            "Epoch 23/25\n",
            "202/202 [==============================] - 949s 5s/step - loss: 0.2822 - accuracy: 0.8957 - val_loss: 0.2170 - val_accuracy: 0.9276\n",
            "Epoch 24/25\n",
            "202/202 [==============================] - 955s 5s/step - loss: 0.2803 - accuracy: 0.8956 - val_loss: 0.2114 - val_accuracy: 0.9319\n",
            "Epoch 25/25\n",
            "202/202 [==============================] - 956s 5s/step - loss: 0.2703 - accuracy: 0.9031 - val_loss: 0.2235 - val_accuracy: 0.9184\n"
          ]
        }
      ]
    },
    {
      "cell_type": "code",
      "source": [
        "score = model.evaluate_generator(validation_generator)\n",
        "print('final val_loss:', score[0])\n",
        "print('final val_acc:', score[1])"
      ],
      "metadata": {
        "execution": {
          "iopub.status.busy": "2022-06-25T17:40:23.546389Z",
          "iopub.execute_input": "2022-06-25T17:40:23.547147Z",
          "iopub.status.idle": "2022-06-25T17:41:08.559519Z",
          "shell.execute_reply.started": "2022-06-25T17:40:23.547101Z",
          "shell.execute_reply": "2022-06-25T17:41:08.558086Z"
        },
        "trusted": true,
        "colab": {
          "base_uri": "https://localhost:8080/"
        },
        "id": "G0_2HSpd_MqV",
        "outputId": "fe6ae262-7a46-4919-c1bd-433a219da2bd"
      },
      "execution_count": null,
      "outputs": [
        {
          "output_type": "stream",
          "name": "stderr",
          "text": [
            "/usr/local/lib/python3.7/dist-packages/ipykernel_launcher.py:1: UserWarning: `Model.evaluate_generator` is deprecated and will be removed in a future version. Please use `Model.evaluate`, which supports generators.\n",
            "  \"\"\"Entry point for launching an IPython kernel.\n"
          ]
        },
        {
          "output_type": "stream",
          "name": "stdout",
          "text": [
            "final val_loss: 0.2235197126865387\n",
            "final val_acc: 0.9184224605560303\n"
          ]
        }
      ]
    },
    {
      "cell_type": "code",
      "source": [
        "score = model.evaluate_generator(test_generator)\n",
        "print('final test_loss:', score[0])\n",
        "print('final test_acc:', score[1])"
      ],
      "metadata": {
        "execution": {
          "iopub.status.busy": "2022-06-25T17:41:08.56216Z",
          "iopub.execute_input": "2022-06-25T17:41:08.562929Z",
          "iopub.status.idle": "2022-06-25T17:41:46.302843Z",
          "shell.execute_reply.started": "2022-06-25T17:41:08.562883Z",
          "shell.execute_reply": "2022-06-25T17:41:46.301455Z"
        },
        "trusted": true,
        "colab": {
          "base_uri": "https://localhost:8080/"
        },
        "id": "FTggx4-t_MqV",
        "outputId": "ed6638cc-2a4d-4022-d788-8b995f05e7ee"
      },
      "execution_count": null,
      "outputs": [
        {
          "output_type": "stream",
          "name": "stderr",
          "text": [
            "/usr/local/lib/python3.7/dist-packages/ipykernel_launcher.py:1: UserWarning: `Model.evaluate_generator` is deprecated and will be removed in a future version. Please use `Model.evaluate`, which supports generators.\n",
            "  \"\"\"Entry point for launching an IPython kernel.\n"
          ]
        },
        {
          "output_type": "stream",
          "name": "stdout",
          "text": [
            "final test_loss: 0.19406764209270477\n",
            "final test_acc: 0.9204301238059998\n"
          ]
        }
      ]
    },
    {
      "cell_type": "code",
      "source": [
        "pd.DataFrame(history.history).plot(figsize=(8,5))\n",
        "plt.grid(True)\n",
        "plt.gca().set_ylim(0,1) # set the vertical range to [0-1]\n",
        "plt.show()"
      ],
      "metadata": {
        "execution": {
          "iopub.status.busy": "2022-06-25T17:41:46.304728Z",
          "iopub.execute_input": "2022-06-25T17:41:46.30514Z",
          "iopub.status.idle": "2022-06-25T17:41:46.594136Z",
          "shell.execute_reply.started": "2022-06-25T17:41:46.305085Z",
          "shell.execute_reply": "2022-06-25T17:41:46.592861Z"
        },
        "trusted": true,
        "colab": {
          "base_uri": "https://localhost:8080/",
          "height": 324
        },
        "id": "ev1jMoNL_MqW",
        "outputId": "a1573351-98b0-4c75-f021-611c16279923"
      },
      "execution_count": null,
      "outputs": [
        {
          "output_type": "display_data",
          "data": {
            "text/plain": [
              "<Figure size 576x360 with 1 Axes>"
            ],
            "image/png": "[encoded data removed]"
          },
          "metadata": {
            "needs_background": "light"
          }
        }
      ]
    },
    {
      "cell_type": "code",
      "source": [
        "model.save('model_IRV2_1.h5')"
      ],
      "metadata": {
        "execution": {
          "iopub.status.busy": "2022-06-25T17:41:46.595921Z",
          "iopub.execute_input": "2022-06-25T17:41:46.596757Z",
          "iopub.status.idle": "2022-06-25T17:41:48.268716Z",
          "shell.execute_reply.started": "2022-06-25T17:41:46.596709Z",
          "shell.execute_reply": "2022-06-25T17:41:48.267514Z"
        },
        "trusted": true,
        "id": "roRHpU3T_MqW"
      },
      "execution_count": null,
      "outputs": []
    },
    {
      "cell_type": "code",
      "source": [
        "from keras.models import load_model\n",
        "model = load_model('model_IRV2_1.h5')"
      ],
      "metadata": {
        "id": "uTSLpDBAcdDH"
      },
      "execution_count": null,
      "outputs": []
    },
    {
      "cell_type": "code",
      "source": [
        "import keras\n",
        "from keras import backend as K\n",
        "from keras.layers.core import Dense, Activation\n",
        "from tensorflow.keras import optimizers\n",
        "from keras.metrics import categorical_crossentropy\n",
        "from keras.preprocessing.image import ImageDataGenerator\n",
        "from keras.preprocessing import image\n",
        "from keras.models import Model\n",
        "from keras.applications import imagenet_utils\n",
        "from keras.layers import Dense,GlobalAveragePooling2D\n",
        "\n",
        "\n",
        "import numpy as np\n",
        "from IPython.display import Image\n",
        "from tensorflow.keras import optimizers"
      ],
      "metadata": {
        "id": "0Gg7kFjacq-E"
      },
      "execution_count": null,
      "outputs": []
    },
    {
      "cell_type": "code",
      "source": [
        "def load_image(img_path, show=False):\n",
        "\n",
        "    img = image.load_img(img_path, target_size=(150,150,3))\n",
        "    print(img)\n",
        "    img_tensor = image.img_to_array(img)                    # (height, width, channels)\n",
        "    img_tensor = np.expand_dims(img_tensor, axis=0)         # (1, height, width, channels), add a dimension because the model expects this shape: (batch_size, height, width, channels)\n",
        "    img_tensor /= 255.                                      # imshow expects values in the range [0, 1]\n",
        "\n",
        "    if show:\n",
        "        plt.imshow(img_tensor[0])\n",
        "        plt.axis('off')\n",
        "        plt.show()\n",
        "\n",
        "    return img_tensor\n",
        "\n",
        "\n",
        "img_path = '/content/drive/MyDrive/COVID-19_Dataset_2/test/Lung_Opacity/Lung_Opacity-1000.png'\n",
        "new_image = load_image(img_path)\n",
        "print(new_image.shape)\n",
        "\n",
        "pred = model.predict(new_image)\n",
        "\n",
        "pred = np.argmax(pred)\n",
        "pred"
      ],
      "metadata": {
        "colab": {
          "base_uri": "https://localhost:8080/"
        },
        "id": "FQ6drnpMcyHv",
        "outputId": "cee15a29-f3a3-4139-8a0c-6d1c20d06ab1"
      },
      "execution_count": null,
      "outputs": [
        {
          "output_type": "stream",
          "name": "stdout",
          "text": [
            "<PIL.Image.Image image mode=RGB size=150x150 at 0x7FDA3BC207D0>\n",
            "(1, 150, 150, 3)\n"
          ]
        },
        {
          "output_type": "execute_result",
          "data": {
            "text/plain": [
              "2"
            ]
          },
          "metadata": {},
          "execution_count": 21
        }
      ]
    },
    {
      "cell_type": "code",
      "source": [
        "from sklearn.metrics import confusion_matrix, roc_curve, auc"
      ],
      "metadata": {
        "execution": {
          "iopub.status.busy": "2022-06-25T17:41:48.2713Z",
          "iopub.execute_input": "2022-06-25T17:41:48.271794Z",
          "iopub.status.idle": "2022-06-25T17:41:48.596407Z",
          "shell.execute_reply.started": "2022-06-25T17:41:48.271751Z",
          "shell.execute_reply": "2022-06-25T17:41:48.595249Z"
        },
        "trusted": true,
        "id": "IR2eSjUk_MqW"
      },
      "execution_count": null,
      "outputs": []
    },
    {
      "cell_type": "code",
      "source": [
        "def get_confusion_matrix(data_path, N):\n",
        "  # we need to see the data in the same order\n",
        "  # for both predictions and targets\n",
        "  print(\"Confusion Matrix\", N)\n",
        "  predictions = []\n",
        "  targets = []\n",
        "  i = 0\n",
        "  for x, y in valid_datagen.flow_from_directory(data_path, target_size=(150,150), shuffle=False, batch_size= 64):\n",
        "    i += 1\n",
        "    if i % 50 == 0:\n",
        "      print(i)\n",
        "    p = model.predict(x)\n",
        "    p = np.argmax(p, axis=1)\n",
        "    y = np.argmax(y, axis=1)\n",
        "    predictions = np.concatenate((predictions, p))\n",
        "    targets = np.concatenate((targets, y))\n",
        "    if len(targets) >= N:\n",
        "      break\n",
        "\n",
        "  cm = confusion_matrix(targets, predictions)\n",
        "  return cm\n",
        "\n",
        "\n",
        "cm = get_confusion_matrix(train_dir, 6484 )\n",
        "print(cm)\n",
        "valid_cm = get_confusion_matrix(test_dir,930 )\n",
        "print(valid_cm)"
      ],
      "metadata": {
        "execution": {
          "iopub.status.busy": "2022-06-25T18:14:26.206208Z",
          "iopub.execute_input": "2022-06-25T18:14:26.206595Z",
          "iopub.status.idle": "2022-06-25T18:14:29.332261Z",
          "shell.execute_reply.started": "2022-06-25T18:14:26.206563Z",
          "shell.execute_reply": "2022-06-25T18:14:29.330303Z"
        },
        "trusted": true,
        "colab": {
          "base_uri": "https://localhost:8080/"
        },
        "id": "KfNYRINS_MqW",
        "outputId": "d820b0b5-0553-43a4-c0c6-04c09252dcb9"
      },
      "execution_count": null,
      "outputs": [
        {
          "output_type": "stream",
          "name": "stdout",
          "text": [
            "Confusion Matrix 6484\n",
            "Found 6484 images belonging to 3 classes.\n",
            "50\n",
            "100\n",
            "[[ 893   10   27]\n",
            " [  44 1967  283]\n",
            " [  26  107 3127]]\n",
            "Confusion Matrix 930\n",
            "Found 930 images belonging to 3 classes.\n",
            "[[130   2   2]\n",
            " [  7 278  44]\n",
            " [  4  15 448]]\n"
          ]
        }
      ]
    },
    {
      "cell_type": "code",
      "source": [
        "# plot some data:\n",
        "\n",
        "# loss:\n",
        "plt.plot(history.history['loss'], label='train loss')\n",
        "plt.plot(history.history['val_loss'], label='val loss')\n",
        "plt.legend()\n",
        "plt.xlabel('epoch')\n",
        "plt.ylabel('error')\n",
        "plt.show()\n",
        "\n",
        "# accuracies:\n",
        "plt.plot(history.history['accuracy'], label='train acc')\n",
        "plt.plot(history.history['val_accuracy'], label='val acc')\n",
        "plt.legend()\n",
        "plt.xlabel('epoch')\n",
        "plt.ylabel('accuracy')\n",
        "plt.show()"
      ],
      "metadata": {
        "execution": {
          "iopub.status.busy": "2022-06-25T17:41:52.145535Z",
          "iopub.status.idle": "2022-06-25T17:41:52.146559Z",
          "shell.execute_reply.started": "2022-06-25T17:41:52.146207Z",
          "shell.execute_reply": "2022-06-25T17:41:52.146239Z"
        },
        "trusted": true,
        "colab": {
          "base_uri": "https://localhost:8080/",
          "height": 544
        },
        "id": "rPNyXYQj_MqX",
        "outputId": "6eaf9a2b-3900-4ee4-b3ca-7ce840c1965e"
      },
      "execution_count": null,
      "outputs": [
        {
          "output_type": "display_data",
          "data": {
            "text/plain": [
              "<Figure size 432x288 with 1 Axes>"
            ],
            "image/png": "[encoded data removed]"
          },
          "metadata": {
            "needs_background": "light"
          }
        },
        {
          "output_type": "display_data",
          "data": {
            "text/plain": [
              "<Figure size 432x288 with 1 Axes>"
            ],
            "image/png": "[encoded data removed]"
          },
          "metadata": {
            "needs_background": "light"
          }
        }
      ]
    },
    {
      "cell_type": "code",
      "source": [
        "labels = ['Covid', 'Normal', 'Other']"
      ],
      "metadata": {
        "execution": {
          "iopub.status.busy": "2022-06-25T17:41:52.148382Z",
          "iopub.status.idle": "2022-06-25T17:41:52.149368Z",
          "shell.execute_reply.started": "2022-06-25T17:41:52.149017Z",
          "shell.execute_reply": "2022-06-25T17:41:52.149048Z"
        },
        "trusted": true,
        "id": "GUa9Rx-Z_MqX"
      },
      "execution_count": null,
      "outputs": []
    },
    {
      "cell_type": "code",
      "source": [
        "import itertools\n",
        "import numpy as np\n",
        "import matplotlib.pyplot as plt\n",
        "import os\n",
        "\n",
        "\n",
        "def plot_confusion_matrix(cm, classes,\n",
        "                          normalize=False,\n",
        "                          title='Confusion Matrix',\n",
        "                          cmap=plt.cm.Blues,\n",
        "                          sv_dir=None):\n",
        "  \"\"\"\n",
        "  This function prints and plots the confusion matrix.\n",
        "  Normalization can be applied by setting `normalize=True`.\n",
        "  \"\"\"\n",
        "  if normalize:\n",
        "      cm = cm.astype('float') / cm.sum(axis=1)[:, np.newaxis]\n",
        "      print(\"Normalized Confusion Matrix\")\n",
        "  else:\n",
        "      print('Confussion Matrix')\n",
        "\n",
        "  print(cm)\n",
        "\n",
        "  plt.imshow(cm, interpolation='nearest', cmap=cmap)\n",
        "  plt.title(title)\n",
        "  plt.colorbar()\n",
        "  tick_marks = np.arange(len(classes))\n",
        "  plt.xticks(tick_marks, classes, rotation=45)\n",
        "  plt.yticks(tick_marks, classes)\n",
        "\n",
        "  fmt = '.2f' if normalize else 'd'\n",
        "  thresh = cm.max() / 2.\n",
        "  for i, j in itertools.product(range(cm.shape[0]), range(cm.shape[1])):\n",
        "      plt.text(j, i, format(cm[i, j], fmt),\n",
        "               horizontalalignment=\"center\",\n",
        "               color=\"white\" if cm[i, j] > thresh else \"black\")\n",
        "\n",
        "  plt.tight_layout()\n",
        "  plt.ylabel('Real Values')\n",
        "  plt.xlabel('Predicted Values')\n",
        "  if sv_dir is not None:\n",
        "    plt.savefig(sv_dir)\n",
        "  plt.show()\n",
        "\n",
        "\n",
        "def y2indicator(Y):\n",
        "  K = len(set(Y))\n",
        "  N = len(Y)\n",
        "  I = np.empty((N, K))\n",
        "  I[np.arange(N), Y] = 1\n",
        "  return I\n",
        "plot_confusion_matrix(\n",
        "  cm,\n",
        "  labels,\n",
        "  title='Training Confusion matrix'\n",
        ")\n",
        "\n",
        "plot_confusion_matrix(\n",
        "  valid_cm,\n",
        "  labels,\n",
        "  title='Test Confusion Matrix'\n",
        ")"
      ],
      "metadata": {
        "execution": {
          "iopub.status.busy": "2022-06-25T17:41:52.151206Z",
          "iopub.status.idle": "2022-06-25T17:41:52.152188Z",
          "shell.execute_reply.started": "2022-06-25T17:41:52.151816Z",
          "shell.execute_reply": "2022-06-25T17:41:52.151845Z"
        },
        "trusted": true,
        "colab": {
          "base_uri": "https://localhost:8080/",
          "height": 744
        },
        "id": "x-TkIy_6_MqX",
        "outputId": "0ea3af1f-956c-42e1-9743-08290717835b"
      },
      "execution_count": null,
      "outputs": [
        {
          "output_type": "stream",
          "name": "stdout",
          "text": [
            "Confussion Matrix\n",
            "[[ 893   10   27]\n",
            " [  44 1967  283]\n",
            " [  26  107 3127]]\n"
          ]
        },
        {
          "output_type": "display_data",
          "data": {
            "text/plain": [
              "<Figure size 432x288 with 2 Axes>"
            ],
            "image/png": "[encoded data removed]"
          },
          "metadata": {
            "needs_background": "light"
          }
        },
        {
          "output_type": "stream",
          "name": "stdout",
          "text": [
            "Confussion Matrix\n",
            "[[130   2   2]\n",
            " [  7 278  44]\n",
            " [  4  15 448]]\n"
          ]
        },
        {
          "output_type": "display_data",
          "data": {
            "text/plain": [
              "<Figure size 432x288 with 2 Axes>"
            ],
            "image/png": "[encoded data removed]"
          },
          "metadata": {
            "needs_background": "light"
          }
        }
      ]
    },
    {
      "cell_type": "code",
      "source": [
        "from sklearn.metrics import classification_report"
      ],
      "metadata": {
        "execution": {
          "iopub.status.busy": "2022-06-25T17:41:52.154177Z",
          "iopub.status.idle": "2022-06-25T17:41:52.155221Z",
          "shell.execute_reply.started": "2022-06-25T17:41:52.154838Z",
          "shell.execute_reply": "2022-06-25T17:41:52.154869Z"
        },
        "trusted": true,
        "id": "RU_GjIWn_MqX"
      },
      "execution_count": null,
      "outputs": []
    },
    {
      "cell_type": "code",
      "source": [
        "print(\"[INFO] evaluating network...\")\n",
        "N=900\n",
        "predictions = []\n",
        "targets = []\n",
        "i = 0\n",
        "for x, y in test_datagen.flow_from_directory(test_dir, target_size=(150,150), shuffle=False, batch_size= 64):\n",
        "    i += 1\n",
        "    if i % 50 == 0:\n",
        "      print(i)\n",
        "    p = model.predict(x)\n",
        "    p = np.argmax(p, axis=1)\n",
        "    y = np.argmax(y, axis=1)\n",
        "    predictions = np.concatenate((predictions, p))\n",
        "    targets = np.concatenate((targets, y))\n",
        "    if len(targets) >= N:\n",
        "      break\n",
        "\n",
        "print(classification_report(targets, predictions, target_names=labels))"
      ],
      "metadata": {
        "execution": {
          "iopub.status.busy": "2022-06-25T17:41:52.157146Z",
          "iopub.status.idle": "2022-06-25T17:41:52.158109Z",
          "shell.execute_reply.started": "2022-06-25T17:41:52.157778Z",
          "shell.execute_reply": "2022-06-25T17:41:52.157807Z"
        },
        "trusted": true,
        "colab": {
          "base_uri": "https://localhost:8080/"
        },
        "id": "1tRY8Y00_MqX",
        "outputId": "2122c317-cb3c-43a7-89c3-c5d24ba695de"
      },
      "execution_count": null,
      "outputs": [
        {
          "output_type": "stream",
          "name": "stdout",
          "text": [
            "[INFO] evaluating network...\n",
            "Found 930 images belonging to 3 classes.\n",
            "              precision    recall  f1-score   support\n",
            "\n",
            "       Covid       0.92      0.97      0.95       134\n",
            "      Normal       0.94      0.84      0.89       329\n",
            "       Other       0.91      0.96      0.93       467\n",
            "\n",
            "    accuracy                           0.92       930\n",
            "   macro avg       0.92      0.92      0.92       930\n",
            "weighted avg       0.92      0.92      0.92       930\n",
            "\n"
          ]
        }
      ]
    },
    {
      "cell_type": "code",
      "source": [],
      "metadata": {
        "id": "bYWGImSM_MqY"
      },
      "execution_count": null,
      "outputs": []
    },
    {
      "cell_type": "code",
      "source": [],
      "metadata": {
        "id": "RG4Pm7eh_MqY"
      },
      "execution_count": null,
      "outputs": []
    }
  ]
}