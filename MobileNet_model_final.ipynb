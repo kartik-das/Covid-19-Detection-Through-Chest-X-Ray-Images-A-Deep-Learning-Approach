{
  "cells": [
    {
      "cell_type": "markdown",
      "metadata": {
        "id": "view-in-github",
        "colab_type": "text"
      },
      "source": [
        "<a href=\"https://colab.research.google.com/github/kartik-das/Covid-19-Detection-Through-Chest-X-Ray-Images-A-Deep-Learning-Approach/blob/main/MobileNet_model_final.ipynb\" target=\"_parent\"><img src=\"https://colab.research.google.com/assets/colab-badge.svg\" alt=\"Open In Colab\"/></a>"
      ]
    },
    {
      "cell_type": "code",
      "execution_count": null,
      "metadata": {
        "id": "Z-Ki21CBr06Q"
      },
      "outputs": [],
      "source": [
        "import numpy as np\n",
        "import pandas as pd\n",
        "%matplotlib inline\n",
        "import matplotlib as mpl\n",
        "import matplotlib.pyplot as plt\n",
        "import os"
      ]
    },
    {
      "cell_type": "code",
      "execution_count": null,
      "metadata": {
        "colab": {
          "base_uri": "https://localhost:8080/"
        },
        "id": "pXL0Ei6eCJmN",
        "outputId": "db666be5-28c9-46dc-bd18-ef52d102f8bc"
      },
      "outputs": [
        {
          "name": "stdout",
          "output_type": "stream",
          "text": [
            "Mounted at /content/drive\n"
          ]
        }
      ],
      "source": [
        "from google.colab import drive\n",
        "drive.mount('/content/drive')"
      ]
    },
    {
      "cell_type": "code",
      "execution_count": null,
      "metadata": {
        "id": "dd13YTAXsUaS"
      },
      "outputs": [],
      "source": [
        "import tensorflow as tf\n",
        "from tensorflow import keras"
      ]
    },
    {
      "cell_type": "code",
      "execution_count": null,
      "metadata": {
        "id": "MDbv-xFPs2Xo"
      },
      "outputs": [],
      "source": [
        "train_dir=r'/content/drive/MyDrive/Curated S Dataset/train'\n",
        "validation_dir=r'/content/drive/MyDrive/Curated S Dataset/val'\n",
        "test_dir=r'/content/drive/MyDrive/Curated S Dataset/test'"
      ]
    },
    {
      "cell_type": "code",
      "execution_count": null,
      "metadata": {
        "id": "9wG8cpO6tRNI"
      },
      "outputs": [],
      "source": [
        "from tensorflow.keras.preprocessing.image import ImageDataGenerator"
      ]
    },
    {
      "cell_type": "code",
      "execution_count": null,
      "metadata": {
        "id": "1LiE_juctU_n"
      },
      "outputs": [],
      "source": [
        "train_datagen=ImageDataGenerator(\n",
        "    rescale=1./255,\n",
        "    rotation_range=40,\n",
        "    width_shift_range=0.2,\n",
        "    height_shift_range=0.2,\n",
        "    shear_range=0.2,\n",
        "    zoom_range=0.2,\n",
        "    horizontal_flip=True\n",
        ")"
      ]
    },
    {
      "cell_type": "code",
      "execution_count": null,
      "metadata": {
        "id": "8TswbeJNtcff"
      },
      "outputs": [],
      "source": [
        "test_datagen=ImageDataGenerator(rescale=1./255)"
      ]
    },
    {
      "cell_type": "code",
      "execution_count": null,
      "metadata": {
        "colab": {
          "base_uri": "https://localhost:8080/"
        },
        "id": "fMt-dw3ctkOv",
        "outputId": "5f7a6acb-ea02-467b-c824-d186c8ba1c03"
      },
      "outputs": [
        {
          "name": "stdout",
          "output_type": "stream",
          "text": [
            "Found 6480 images belonging to 3 classes.\n"
          ]
        }
      ],
      "source": [
        "train_datagenerator=train_datagen.flow_from_directory(\n",
        "    train_dir,\n",
        "    target_size=(150,150),\n",
        "    batch_size=32,\n",
        "    class_mode='sparse'\n",
        ")"
      ]
    },
    {
      "cell_type": "code",
      "execution_count": null,
      "metadata": {
        "colab": {
          "base_uri": "https://localhost:8080/"
        },
        "id": "tu26O3bttnZQ",
        "outputId": "afc451f4-7724-435e-d0de-97e18fa01d77"
      },
      "outputs": [
        {
          "name": "stdout",
          "output_type": "stream",
          "text": [
            "Found 1851 images belonging to 3 classes.\n"
          ]
        }
      ],
      "source": [
        "validation_generator=test_datagen.flow_from_directory(\n",
        "    validation_dir,\n",
        "    target_size=(150,150),\n",
        "    batch_size=32,\n",
        "    class_mode='sparse'\n",
        ")"
      ]
    },
    {
      "cell_type": "code",
      "execution_count": null,
      "metadata": {
        "colab": {
          "base_uri": "https://localhost:8080/"
        },
        "id": "aF5JM4rxdbsc",
        "outputId": "cc222703-eedd-42ff-db0c-7ac228d6e33a"
      },
      "outputs": [
        {
          "name": "stdout",
          "output_type": "stream",
          "text": [
            "Found 927 images belonging to 3 classes.\n"
          ]
        }
      ],
      "source": [
        "test_generator=test_datagen.flow_from_directory(\n",
        "    test_dir,\n",
        "    target_size=(150,150),\n",
        "    batch_size=32,\n",
        "    class_mode='sparse'\n",
        ")"
      ]
    },
    {
      "cell_type": "code",
      "execution_count": null,
      "metadata": {
        "id": "kI6OKPGEt1B3"
      },
      "outputs": [],
      "source": [
        "import keras\n",
        "from keras import backend as K\n",
        "from tensorflow.keras.layers import Dense, Activation\n",
        "\n",
        "from tensorflow.keras import optimizers\n",
        "from keras.metrics import categorical_crossentropy\n",
        "from keras.preprocessing.image import ImageDataGenerator\n",
        "from keras.preprocessing import image\n",
        "from keras.models import Model\n",
        "from keras.applications import imagenet_utils\n",
        "from keras.layers import Dense,GlobalAveragePooling2D\n",
        "from tensorflow.keras.applications.mobilenet import MobileNet\n",
        "from keras.applications.mobilenet import preprocess_input\n",
        "import numpy as np\n",
        "from IPython.display import Image\n",
        "from tensorflow.keras import optimizers"
      ]
    },
    {
      "cell_type": "code",
      "execution_count": null,
      "metadata": {
        "colab": {
          "base_uri": "https://localhost:8080/"
        },
        "id": "Mn4aUfBVunFo",
        "outputId": "8bfa50fa-d505-4872-f524-6bc445a513ee"
      },
      "outputs": [
        {
          "name": "stdout",
          "output_type": "stream",
          "text": [
            "Downloading data from https://storage.googleapis.com/tensorflow/keras-applications/mobilenet/mobilenet_1_0_224_tf.h5\n",
            "17225924/17225924 [==============================] - 2s 0us/step\n"
          ]
        }
      ],
      "source": [
        "mobile = keras.applications.mobilenet.MobileNet()\n",
        "def prepare_image(file):\n",
        "    img_path = ''\n",
        "    img = image.load_img(img_path + file, target_size=(224, 224))\n",
        "    img_array = image.img_to_array(img)\n",
        "    img_array_expanded_dims = np.expand_dims(img_array, axis=0)\n",
        "    return keras.applications.mobilenet.preprocess_input(img_array_expanded_dims)"
      ]
    },
    {
      "cell_type": "code",
      "execution_count": null,
      "metadata": {
        "colab": {
          "base_uri": "https://localhost:8080/"
        },
        "id": "SpAUWiZVvy39",
        "outputId": "359ca815-a9f1-4cd9-c7fb-0ac33e4613fd"
      },
      "outputs": [
        {
          "name": "stderr",
          "output_type": "stream",
          "text": [
            "WARNING:tensorflow:`input_shape` is undefined or non-square, or `rows` is not in [128, 160, 192, 224]. Weights for input shape (224, 224) will be loaded as the default.\n"
          ]
        },
        {
          "name": "stdout",
          "output_type": "stream",
          "text": [
            "Downloading data from https://storage.googleapis.com/tensorflow/keras-applications/mobilenet/mobilenet_1_0_224_tf_no_top.h5\n",
            "17225924/17225924 [==============================] - 2s 0us/step\n"
          ]
        }
      ],
      "source": [
        "base_model=MobileNet(weights='imagenet',include_top=False) #imports the mobilenet model and discards the last 1000 neuron layer.\n",
        "\n",
        "x=base_model.output\n",
        "x=GlobalAveragePooling2D()(x)\n",
        "x=Dense(1024,activation='relu')(x) #we add dense layers so that the model can learn more complex functions and classify for better results.\n",
        "x=Dense(1024,activation='relu')(x) #dense layer 2\n",
        "x=Dense(512,activation='relu')(x) #dense layer 3\n",
        "preds=Dense(3,activation='softmax')(x) #final layer with softmax activation"
      ]
    },
    {
      "cell_type": "code",
      "execution_count": null,
      "metadata": {
        "id": "mRTqy4gJwUaw"
      },
      "outputs": [],
      "source": [
        "model=Model(inputs=base_model.input,outputs=preds)\n",
        "#specify the inputs\n",
        "#specify the outputs\n",
        "#now a model has been created based on our architecture"
      ]
    },
    {
      "cell_type": "code",
      "execution_count": null,
      "metadata": {
        "colab": {
          "base_uri": "https://localhost:8080/"
        },
        "id": "Uqkgf_fEwxFw",
        "outputId": "1f5d9a11-eebb-4bea-e411-148e840212e0"
      },
      "outputs": [
        {
          "name": "stdout",
          "output_type": "stream",
          "text": [
            "0 input_2\n",
            "1 conv1\n",
            "2 conv1_bn\n",
            "3 conv1_relu\n",
            "4 conv_dw_1\n",
            "5 conv_dw_1_bn\n",
            "6 conv_dw_1_relu\n",
            "7 conv_pw_1\n",
            "8 conv_pw_1_bn\n",
            "9 conv_pw_1_relu\n",
            "10 conv_pad_2\n",
            "11 conv_dw_2\n",
            "12 conv_dw_2_bn\n",
            "13 conv_dw_2_relu\n",
            "14 conv_pw_2\n",
            "15 conv_pw_2_bn\n",
            "16 conv_pw_2_relu\n",
            "17 conv_dw_3\n",
            "18 conv_dw_3_bn\n",
            "19 conv_dw_3_relu\n",
            "20 conv_pw_3\n",
            "21 conv_pw_3_bn\n",
            "22 conv_pw_3_relu\n",
            "23 conv_pad_4\n",
            "24 conv_dw_4\n",
            "25 conv_dw_4_bn\n",
            "26 conv_dw_4_relu\n",
            "27 conv_pw_4\n",
            "28 conv_pw_4_bn\n",
            "29 conv_pw_4_relu\n",
            "30 conv_dw_5\n",
            "31 conv_dw_5_bn\n",
            "32 conv_dw_5_relu\n",
            "33 conv_pw_5\n",
            "34 conv_pw_5_bn\n",
            "35 conv_pw_5_relu\n",
            "36 conv_pad_6\n",
            "37 conv_dw_6\n",
            "38 conv_dw_6_bn\n",
            "39 conv_dw_6_relu\n",
            "40 conv_pw_6\n",
            "41 conv_pw_6_bn\n",
            "42 conv_pw_6_relu\n",
            "43 conv_dw_7\n",
            "44 conv_dw_7_bn\n",
            "45 conv_dw_7_relu\n",
            "46 conv_pw_7\n",
            "47 conv_pw_7_bn\n",
            "48 conv_pw_7_relu\n",
            "49 conv_dw_8\n",
            "50 conv_dw_8_bn\n",
            "51 conv_dw_8_relu\n",
            "52 conv_pw_8\n",
            "53 conv_pw_8_bn\n",
            "54 conv_pw_8_relu\n",
            "55 conv_dw_9\n",
            "56 conv_dw_9_bn\n",
            "57 conv_dw_9_relu\n",
            "58 conv_pw_9\n",
            "59 conv_pw_9_bn\n",
            "60 conv_pw_9_relu\n",
            "61 conv_dw_10\n",
            "62 conv_dw_10_bn\n",
            "63 conv_dw_10_relu\n",
            "64 conv_pw_10\n",
            "65 conv_pw_10_bn\n",
            "66 conv_pw_10_relu\n",
            "67 conv_dw_11\n",
            "68 conv_dw_11_bn\n",
            "69 conv_dw_11_relu\n",
            "70 conv_pw_11\n",
            "71 conv_pw_11_bn\n",
            "72 conv_pw_11_relu\n",
            "73 conv_pad_12\n",
            "74 conv_dw_12\n",
            "75 conv_dw_12_bn\n",
            "76 conv_dw_12_relu\n",
            "77 conv_pw_12\n",
            "78 conv_pw_12_bn\n",
            "79 conv_pw_12_relu\n",
            "80 conv_dw_13\n",
            "81 conv_dw_13_bn\n",
            "82 conv_dw_13_relu\n",
            "83 conv_pw_13\n",
            "84 conv_pw_13_bn\n",
            "85 conv_pw_13_relu\n",
            "86 global_average_pooling2d_1\n",
            "87 dense\n",
            "88 dense_1\n",
            "89 dense_2\n",
            "90 dense_3\n"
          ]
        }
      ],
      "source": [
        "for i,layer in enumerate(model.layers):\n",
        "  print(i,layer.name)"
      ]
    },
    {
      "cell_type": "code",
      "execution_count": null,
      "metadata": {
        "id": "oGpa55Fvw1hh"
      },
      "outputs": [],
      "source": [
        "for layer in model.layers:\n",
        "    layer.trainable=False\n",
        "# or if we want to set the first 20 layers of the network to be non-trainable\n",
        "for layer in model.layers[:20]:\n",
        "    layer.trainable=False\n",
        "for layer in model.layers[20:]:\n",
        "    layer.trainable=True"
      ]
    },
    {
      "cell_type": "code",
      "execution_count": null,
      "metadata": {
        "colab": {
          "background_save": true,
          "base_uri": "https://localhost:8080/"
        },
        "id": "wHe61arwxufK",
        "outputId": "be9c17d5-daaf-44c8-974c-65b5a95119b9"
      },
      "outputs": [
        {
          "name": "stdout",
          "output_type": "stream",
          "text": [
            "Epoch 1/25\n",
            "203/202 [==============================] - ETA: -17s - loss: 0.3456 - accuracy: 0.8843"
          ]
        }
      ],
      "source": [
        "model.compile(optimizer='Adam',loss='sparse_categorical_crossentropy',metrics=['accuracy'])\n",
        "# Adam optimizer\n",
        "# loss function will be categorical cross entropy\n",
        "# evaluation metric will be accuracy\n",
        "\n",
        "#step_size_train=train_datagenerator.n//train_datagenerator.batch_size\n",
        "#history = model.fit_generator(generator=train_datagenerator,\n",
        "                   #steps_per_epoch=step_size_train,\n",
        "                   #epochs=25)\n",
        "history=model.fit(\n",
        "    train_datagenerator,\n",
        "    steps_per_epoch=train_datagenerator.n/train_datagenerator.batch_size,\n",
        "    epochs=25,\n",
        "    validation_data=validation_generator,\n",
        "    validation_steps=validation_generator.n/validation_generator.batch_size\n",
        ")"
      ]
    },
    {
      "cell_type": "code",
      "execution_count": null,
      "metadata": {
        "colab": {
          "base_uri": "https://localhost:8080/"
        },
        "id": "e4vMS1pNyIF4",
        "outputId": "2facd274-5d08-4878-9460-d103bffb9cb4"
      },
      "outputs": [
        {
          "name": "stdout",
          "output_type": "stream",
          "text": [
            "<PIL.Image.Image image mode=RGB size=150x150 at 0x7FCE8E375110>\n",
            "(1, 150, 150, 3)\n"
          ]
        },
        {
          "data": {
            "text/plain": [
              "0"
            ]
          },
          "execution_count": 21,
          "metadata": {},
          "output_type": "execute_result"
        }
      ],
      "source": [
        "def load_image(img_path, show=False):\n",
        "\n",
        "    img = image.load_img(img_path, target_size=(150, 150,1))\n",
        "    print(img)\n",
        "    img_tensor = image.img_to_array(img)                    # (height, width, channels)\n",
        "    img_tensor = np.expand_dims(img_tensor, axis=0)         # (1, height, width, channels), add a dimension because the model expects this shape: (batch_size, height, width, channels)\n",
        "    img_tensor /= 255.                                      # imshow expects values in the range [0, 1]\n",
        "\n",
        "    if show:\n",
        "        plt.imshow(img_tensor[0])\n",
        "        plt.axis('off')\n",
        "        plt.show()\n",
        "\n",
        "    return img_tensor\n",
        "\n",
        "\n",
        "img_path = '/content/drive/MyDrive/Curated S Dataset/test/Covid/COVID-19 (1008).jpg'\n",
        "new_image = load_image(img_path)\n",
        "print(new_image.shape)\n",
        "pred = model.predict(new_image)\n",
        "\n",
        "pred = np.argmax(pred)\n",
        "pred"
      ]
    },
    {
      "cell_type": "code",
      "execution_count": null,
      "metadata": {
        "id": "chUgdaqm74Ao"
      },
      "outputs": [],
      "source": [
        "model.save('MobileNet_model_final__.h5')"
      ]
    },
    {
      "cell_type": "code",
      "execution_count": null,
      "metadata": {
        "colab": {
          "base_uri": "https://localhost:8080/"
        },
        "id": "PNugGXh4Y4TU",
        "outputId": "539139a2-e5f7-45d7-e740-c779b93f453b"
      },
      "outputs": [
        {
          "name": "stderr",
          "output_type": "stream",
          "text": [
            "/usr/local/lib/python3.7/dist-packages/ipykernel_launcher.py:1: UserWarning: `Model.evaluate_generator` is deprecated and will be removed in a future version. Please use `Model.evaluate`, which supports generators.\n",
            "  \"\"\"Entry point for launching an IPython kernel.\n"
          ]
        },
        {
          "name": "stdout",
          "output_type": "stream",
          "text": [
            "final val_loss: 0.1634938269853592\n",
            "final val_acc: 0.9551593661308289\n"
          ]
        }
      ],
      "source": [
        "score = model.evaluate_generator(validation_generator)\n",
        "print('final val_loss:', score[0])\n",
        "print('final val_acc:', score[1])"
      ]
    },
    {
      "cell_type": "code",
      "execution_count": null,
      "metadata": {
        "colab": {
          "base_uri": "https://localhost:8080/"
        },
        "id": "vG4KGxaj0-4O",
        "outputId": "a96e9996-b092-43ac-cd25-f80a1326b459"
      },
      "outputs": [
        {
          "name": "stderr",
          "output_type": "stream",
          "text": [
            "/usr/local/lib/python3.7/dist-packages/ipykernel_launcher.py:1: UserWarning: `Model.evaluate_generator` is deprecated and will be removed in a future version. Please use `Model.evaluate`, which supports generators.\n",
            "  \"\"\"Entry point for launching an IPython kernel.\n"
          ]
        },
        {
          "name": "stdout",
          "output_type": "stream",
          "text": [
            "final test_loss: 0.1504877209663391\n",
            "final test_acc: 0.9602150321006775\n"
          ]
        }
      ],
      "source": [
        "score = model.evaluate_generator(test_generator)\n",
        "print('final test_loss:', score[0])\n",
        "print('final test_acc:', score[1])"
      ]
    },
    {
      "cell_type": "code",
      "execution_count": null,
      "metadata": {
        "id": "oNEDoTW-nFks"
      },
      "outputs": [],
      "source": [
        "from sklearn.metrics import confusion_matrix, roc_curve, auc"
      ]
    },
    {
      "cell_type": "code",
      "execution_count": null,
      "metadata": {
        "colab": {
          "base_uri": "https://localhost:8080/"
        },
        "id": "Z-rkR-cykRhD",
        "outputId": "c4c65fd8-d9d1-44b3-af9c-01f9e6d33c41"
      },
      "outputs": [
        {
          "name": "stdout",
          "output_type": "stream",
          "text": [
            "Confusion Matrix 6484\n",
            "Found 6485 images belonging to 3 classes.\n",
            "50\n",
            "100\n",
            "[[ 877   27   26]\n",
            " [   8 2256   30]\n",
            " [   0  151 3110]]\n",
            "Confusion Matrix 930\n",
            "Found 930 images belonging to 3 classes.\n",
            "[[128   3   3]\n",
            " [  1 325   3]\n",
            " [  0  14 453]]\n"
          ]
        }
      ],
      "source": [
        "\n",
        "def get_confusion_matrix(data_path, N):\n",
        "  # we need to see the data in the same order\n",
        "  # for both predictions and targets\n",
        "  print(\"Confusion Matrix\", N)\n",
        "  predictions = []\n",
        "  targets = []\n",
        "  i = 0\n",
        "  for x, y in test_datagen.flow_from_directory(data_path, target_size=(150,150), shuffle=False, batch_size= 64):\n",
        "    i += 1\n",
        "    if i % 50 == 0:\n",
        "      print(i)\n",
        "    p = model.predict(x)\n",
        "    p = np.argmax(p, axis=1)\n",
        "    y = np.argmax(y, axis=1)\n",
        "    predictions = np.concatenate((predictions, p))\n",
        "    targets = np.concatenate((targets, y))\n",
        "    if len(targets) >= N:\n",
        "      break\n",
        "\n",
        "  cm = confusion_matrix(targets, predictions)\n",
        "  return cm\n",
        "\n",
        "\n",
        "cm = get_confusion_matrix(train_dir, 6484 )\n",
        "print(cm)\n",
        "valid_cm = get_confusion_matrix(test_dir, 930 )\n",
        "print(valid_cm)\n",
        "\n",
        "\n"
      ]
    },
    {
      "cell_type": "code",
      "execution_count": null,
      "metadata": {
        "colab": {
          "base_uri": "https://localhost:8080/",
          "height": 279
        },
        "id": "iicEmE2q-icR",
        "outputId": "e2c486e5-715b-4d81-e924-038c9c58589c"
      },
      "outputs": [
        {
          "data": {
            "image/png": "[encoded data removed]",
            "text/plain": [
              "<Figure size 432x288 with 1 Axes>"
            ]
          },
          "metadata": {},
          "output_type": "display_data"
        }
      ],
      "source": [
        "#ploting some data:\n",
        "\n",
        "#loss :\n",
        "plt.plot(history.history['loss'], label='train_loss')\n",
        "plt.plot(history.history['val_loss'], label='val_loss')\n",
        "plt.legend()\n",
        "plt.xlabel('epoch')\n",
        "plt.ylabel('error')\n",
        "plt.show()\n",
        "\n"
      ]
    },
    {
      "cell_type": "code",
      "execution_count": null,
      "metadata": {
        "colab": {
          "base_uri": "https://localhost:8080/",
          "height": 279
        },
        "id": "8vjGviv6_reo",
        "outputId": "022d75b5-cb05-44a8-942c-f63fb031775b"
      },
      "outputs": [
        {
          "data": {
            "image/png": "[encoded data removed]",
            "text/plain": [
              "<Figure size 432x288 with 1 Axes>"
            ]
          },
          "metadata": {},
          "output_type": "display_data"
        }
      ],
      "source": [
        "#accuracies :\n",
        "plt.plot(history.history['accuracy'], label='train_acc')\n",
        "plt.plot(history.history['val_accuracy'], label='val_acc')\n",
        "plt.legend()\n",
        "plt.xlabel('epoch')\n",
        "plt.ylabel('accuracy')\n",
        "plt.show()"
      ]
    },
    {
      "cell_type": "code",
      "execution_count": null,
      "metadata": {
        "id": "8j3SNtjLq-yl"
      },
      "outputs": [],
      "source": [
        "labels = ['Covid', 'Normal', 'Other']"
      ]
    },
    {
      "cell_type": "code",
      "execution_count": null,
      "metadata": {
        "colab": {
          "base_uri": "https://localhost:8080/",
          "height": 744
        },
        "id": "tWfUe70lqVwy",
        "outputId": "369b14d4-576f-467d-842e-1e6a545c7c05"
      },
      "outputs": [
        {
          "name": "stdout",
          "output_type": "stream",
          "text": [
            "Confussion Matrix\n",
            "[[ 877   27   26]\n",
            " [   8 2256   30]\n",
            " [   0  151 3110]]\n"
          ]
        },
        {
          "data": {
            "image/png": "[encoded data removed]",
            "text/plain": [
              "<Figure size 432x288 with 2 Axes>"
            ]
          },
          "metadata": {},
          "output_type": "display_data"
        },
        {
          "name": "stdout",
          "output_type": "stream",
          "text": [
            "Confussion Matrix\n",
            "[[128   3   3]\n",
            " [  1 325   3]\n",
            " [  0  14 453]]\n"
          ]
        },
        {
          "data": {
            "image/png": "[encoded data removed]",
            "text/plain": [
              "<Figure size 432x288 with 2 Axes>"
            ]
          },
          "metadata": {},
          "output_type": "display_data"
        }
      ],
      "source": [
        "import itertools\n",
        "import numpy as np\n",
        "import matplotlib.pyplot as plt\n",
        "import os\n",
        "\n",
        "\n",
        "def plot_confusion_matrix(cm, classes,\n",
        "                          normalize=False,\n",
        "                          title='Confusion Matrix',\n",
        "                          cmap=plt.cm.Blues,\n",
        "                          sv_dir=None):\n",
        "  \"\"\"\n",
        "  This function prints and plots the confusion matrix.\n",
        "  Normalization can be applied by setting `normalize=True`.\n",
        "  \"\"\"\n",
        "  if normalize:\n",
        "      cm = cm.astype('float') / cm.sum(axis=1)[:, np.newaxis]\n",
        "      print(\"Normalized Confusion Matrix\")\n",
        "  else:\n",
        "      print('Confussion Matrix')\n",
        "\n",
        "  print(cm)\n",
        "\n",
        "  plt.imshow(cm, interpolation='nearest', cmap=cmap)\n",
        "  plt.title(title)\n",
        "  plt.colorbar()\n",
        "  tick_marks = np.arange(len(classes))\n",
        "  plt.xticks(tick_marks, classes, rotation=45)\n",
        "  plt.yticks(tick_marks, classes)\n",
        "\n",
        "  fmt = '.2f' if normalize else 'd'\n",
        "  thresh = cm.max() / 2.\n",
        "  for i, j in itertools.product(range(cm.shape[0]), range(cm.shape[1])):\n",
        "      plt.text(j, i, format(cm[i, j], fmt),\n",
        "               horizontalalignment=\"center\",\n",
        "               color=\"white\" if cm[i, j] > thresh else \"black\")\n",
        "\n",
        "  plt.tight_layout()\n",
        "  plt.ylabel('Real Values')\n",
        "  plt.xlabel('Predicted Values')\n",
        "  if sv_dir is not None:\n",
        "    plt.savefig(sv_dir)\n",
        "  plt.show()\n",
        "\n",
        "\n",
        "def y2indicator(Y):\n",
        "  K = len(set(Y))\n",
        "  N = len(Y)\n",
        "  I = np.empty((N, K))\n",
        "  I[np.arange(N), Y] = 1\n",
        "  return I\n",
        "plot_confusion_matrix(\n",
        "  cm,\n",
        "  labels,\n",
        "  title='Training Confusion matrix'\n",
        ")\n",
        "\n",
        "plot_confusion_matrix(\n",
        "  valid_cm,\n",
        "  labels,\n",
        "  title='Test Confusion Matrix'\n",
        ")"
      ]
    },
    {
      "cell_type": "code",
      "execution_count": null,
      "metadata": {
        "id": "7Hn2rKUKqmyr"
      },
      "outputs": [],
      "source": [
        "from sklearn.metrics import classification_report"
      ]
    },
    {
      "cell_type": "code",
      "execution_count": null,
      "metadata": {
        "colab": {
          "base_uri": "https://localhost:8080/"
        },
        "id": "3iqkQZQLrX46",
        "outputId": "47c63d10-3918-4c0e-e06d-27e001495277"
      },
      "outputs": [
        {
          "name": "stdout",
          "output_type": "stream",
          "text": [
            "[INFO] evaluating network...\n",
            "Found 930 images belonging to 3 classes.\n",
            "              precision    recall  f1-score   support\n",
            "\n",
            "       Covid       0.99      0.96      0.97       134\n",
            "      Normal       0.95      0.99      0.97       329\n",
            "       Other       0.99      0.97      0.98       467\n",
            "\n",
            "    accuracy                           0.97       930\n",
            "   macro avg       0.98      0.97      0.97       930\n",
            "weighted avg       0.97      0.97      0.97       930\n",
            "\n"
          ]
        }
      ],
      "source": [
        "print(\"[INFO] evaluating network...\")\n",
        "N=900\n",
        "predictions = []\n",
        "targets = []\n",
        "i = 0\n",
        "for x, y in test_datagen.flow_from_directory(test_dir, target_size=(150,150), shuffle=False, batch_size= 64):\n",
        "    i += 1\n",
        "    if i % 50 == 0:\n",
        "      print(i)\n",
        "    p = model.predict(x)\n",
        "    p = np.argmax(p, axis=1)\n",
        "    y = np.argmax(y, axis=1)\n",
        "    predictions = np.concatenate((predictions, p))\n",
        "    targets = np.concatenate((targets, y))\n",
        "    if len(targets) >= N:\n",
        "      break\n",
        "\n",
        "print(classification_report(targets, predictions, target_names=labels))"
      ]
    },
    {
      "cell_type": "code",
      "execution_count": null,
      "metadata": {
        "id": "bhZo2TE-rsbq"
      },
      "outputs": [],
      "source": []
    }
  ],
  "metadata": {
    "accelerator": "GPU",
    "colab": {
      "provenance": [],
      "include_colab_link": true
    },
    "gpuClass": "standard",
    "kernelspec": {
      "display_name": "Python 3",
      "name": "python3"
    },
    "language_info": {
      "name": "python"
    }
  },
  "nbformat": 4,
  "nbformat_minor": 0
}